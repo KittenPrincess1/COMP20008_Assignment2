{
 "cells": [
  {
   "cell_type": "markdown",
   "metadata": {},
   "source": [
    "# **Assignment2-Machine Learning**"
   ]
  },
  {
   "cell_type": "markdown",
   "metadata": {},
   "source": [
    "## **1 Simple Correlation Analysis**"
   ]
  },
  {
   "cell_type": "markdown",
   "metadata": {},
   "source": [
    "Feature Selection and Dataset Preparation:\n",
    "* Based on the earlier EDA, we have identified population, income, education, and other factors that might be important predictors of IRSD.\n",
    "* We select relevant columns related to population characteristics, education, residential status, cultural background, and minority representation.\n",
    "* Next we will use correlation analysis to determine the relationships between the selected features and IRSD."
   ]
  },
  {
   "cell_type": "code",
   "execution_count": 1,
   "metadata": {},
   "outputs": [],
   "source": [
    "import pandas as pd\n",
    "import numpy as np\n",
    "from sklearn.model_selection import train_test_split\n",
    "from sklearn.preprocessing import StandardScaler"
   ]
  },
  {
   "cell_type": "code",
   "execution_count": 17,
   "metadata": {},
   "outputs": [
    {
     "name": "stdout",
     "output_type": "stream",
     "text": [
      "IRSD (avg)                                       1.000000\n",
      "Holds degree or higher, persons                  0.238098\n",
      "Population Density                               0.152509\n",
      "Primary school students                          0.087607\n",
      "Secondary school students                        0.081053\n",
      "2012 ERP age 10-14, persons                      0.060856\n",
      "2012 ERP age 5-9, persons                        0.060523\n",
      "2012 ERP age 15-19, persons                      0.052011\n",
      "2012 ERP age 20-24, persons                      0.039232\n",
      "2012 ERP age 0-4, persons                        0.023887\n",
      "Born overseas, persons                          -0.008502\n",
      "Travel time to nearest public hospital          -0.019597\n",
      "TAFE students                                   -0.034866\n",
      "Personal income <$400/week, persons             -0.047917\n",
      "Primary Schools                                 -0.051335\n",
      "Born in non-English speaking country, persons   -0.053694\n",
      "Dwellings with no motor vehicle                 -0.058276\n",
      "Did not complete year 12, persons               -0.065204\n",
      "Secondary Schools                               -0.069079\n",
      "Speaks LOTE at home, persons                    -0.070013\n",
      "Unemployed, persons                             -0.070714\n",
      "Public hospital separations, 2012-13            -0.113570\n",
      "Equivalent household income <$600/week          -0.146489\n",
      "Poor English proficiency, persons               -0.170452\n",
      "Dwellings with no internet                      -0.174407\n",
      "Aboriginal or Torres Strait Islander, persons   -0.193499\n",
      "Public Housing Dwellings                        -0.284226\n",
      "Distance to GPO (km)                            -0.332491\n",
      "% dwellings which are public housing            -0.429429\n",
      "Name: IRSD (avg), dtype: float64\n"
     ]
    }
   ],
   "source": [
    "df = pd.read_csv('Data/communities.csv')\n",
    "\n",
    "columns_of_interest = [\n",
    "    'IRSD (avg)', \n",
    "    'Equivalent household income <$600/week', \n",
    "    'Personal income <$400/week, persons', \n",
    "    'Unemployed, persons', \n",
    "    'Public Housing Dwellings',\n",
    "    '% dwellings which are public housing',\n",
    "    'Primary school students', \n",
    "    'Secondary school students', \n",
    "    'TAFE students', \n",
    "    'Holds degree or higher, persons', \n",
    "    'Did not complete year 12, persons',\n",
    "    'Population Density',\n",
    "    'Distance to GPO (km)',  \n",
    "    'Dwellings with no motor vehicle',\n",
    "    'Dwellings with no internet',\n",
    "    'Born overseas, persons', \n",
    "    'Born in non-English speaking country, persons', \n",
    "    'Speaks LOTE at home, persons',\n",
    "    'Aboriginal or Torres Strait Islander, persons',\n",
    "    'Poor English proficiency, persons',\n",
    "    '2012 ERP age 0-4, persons', \n",
    "    '2012 ERP age 5-9, persons', \n",
    "    '2012 ERP age 10-14, persons', \n",
    "    '2012 ERP age 15-19, persons', \n",
    "    '2012 ERP age 20-24, persons', \n",
    "    'Public hospital separations, 2012-13',\n",
    "    'Travel time to nearest public hospital',\n",
    "    'Primary Schools', \n",
    "    'Secondary Schools'\n",
    "]\n",
    "\n",
    "for col in columns_of_interest:\n",
    "    if col not in df.columns:\n",
    "        print(f\"Column '{col}' does not exist in the data\")\n",
    "\n",
    "df_filtered = df[[col for col in columns_of_interest if col in df.columns]].copy()\n",
    "\n",
    "df_filtered.replace('<5', 5, inplace=True)\n",
    "\n",
    "for col in df_filtered.columns:\n",
    "    if df_filtered[col].isnull().sum() > 0:\n",
    "        df_filtered[col] = df_filtered[col].fillna(df_filtered[col].median())\n",
    "\n",
    "correlation_matrix = df_filtered.corr()\n",
    "\n",
    "irsd_correlations = correlation_matrix['IRSD (avg)'].sort_values(ascending=False)\n",
    "\n",
    "pd.set_option('display.max_rows', None)  # 显示所有行\n",
    "print(irsd_correlations)"
   ]
  },
  {
   "cell_type": "markdown",
   "metadata": {},
   "source": [
    "| Feature                                  | Correlation Index | Analysis                                                                                                                                   |\n",
    "|------------------------------------------|-------------------|--------------------------------------------------------------------------------------------------------------------------------------------|\n",
    "| % dwellings which are public housing     | -0.429            | Public housing proportion is a strong indicator of socio-economic disadvantage.                                                           |\n",
    "| Distance to GPO (km)                     | -0.332            | Distance from the city center is associated with economic underdevelopment, as remote areas may lack access to resources and opportunities.|\n",
    "| Public Housing Dwellings                 | -0.284            | The number of public housing dwellings indicates communities that might rely on public welfare, often associated with socio-economic disadvantage. |\n",
    "| Equivalent household income <$600/week   | -0.146            | The proportion of low-income households indicates economic hardship and socio-economic disadvantage.                                       |\n",
    "| Poor English proficiency, persons        | -0.170            | Poor language proficiency is strongly associated with socio-economic disadvantage, affecting access to education and employment opportunities. |\n",
    "| Dwellings with no internet               | -0.174            | Lack of internet access reflects digital exclusion, often linked to socio-economic disadvantage.                                           |\n",
    "| Aboriginal or Torres Strait Islander, persons | -0.193          | Areas with higher Indigenous populations often face socio-economic disadvantages, indicating systemic challenges.                         |\n",
    "| Holds degree or higher, persons          | 0.238             | Higher educational attainment is a strong indicator of socio-economic advantage.                                                          |\n",
    "| Population Density                       | 0.153             | Higher population density is often associated with better socio-economic status due to concentration of resources and opportunities.       |"
   ]
  },
  {
   "cell_type": "code",
   "execution_count": 18,
   "metadata": {},
   "outputs": [],
   "source": [
    "columns_of_ml = [\n",
    "    'IRSD (avg)', \n",
    "    '% dwellings which are public housing', \n",
    "    'Distance to GPO (km)', \n",
    "    'Public Housing Dwellings', \n",
    "    'Equivalent household income <$600/week',\n",
    "    'Poor English proficiency, persons',\n",
    "    'Dwellings with no internet',\n",
    "    'Aboriginal or Torres Strait Islander, persons',\n",
    "    'Holds degree or higher, persons',\n",
    "    'Population Density'\n",
    "]\n",
    "\n",
    "for col in columns_of_ml:\n",
    "    if col not in df.columns:\n",
    "        print(f\"Column '{col}' does not exist in the data\")\n"
   ]
  },
  {
   "cell_type": "code",
   "execution_count": 19,
   "metadata": {},
   "outputs": [],
   "source": [
    "df_filtered = df[[col for col in columns_of_ml if col in df.columns]].copy()\n",
    "\n",
    "X = df_filtered.drop(columns=['IRSD (avg)'])\n",
    "y = df_filtered['IRSD (avg)']\n"
   ]
  },
  {
   "cell_type": "code",
   "execution_count": 20,
   "metadata": {},
   "outputs": [
    {
     "data": {
      "text/html": [
       "<div>\n",
       "<style scoped>\n",
       "    .dataframe tbody tr th:only-of-type {\n",
       "        vertical-align: middle;\n",
       "    }\n",
       "\n",
       "    .dataframe tbody tr th {\n",
       "        vertical-align: top;\n",
       "    }\n",
       "\n",
       "    .dataframe thead th {\n",
       "        text-align: right;\n",
       "    }\n",
       "</style>\n",
       "<table border=\"1\" class=\"dataframe\">\n",
       "  <thead>\n",
       "    <tr style=\"text-align: right;\">\n",
       "      <th></th>\n",
       "      <th>% dwellings which are public housing</th>\n",
       "      <th>Distance to GPO (km)</th>\n",
       "      <th>Public Housing Dwellings</th>\n",
       "      <th>Equivalent household income &lt;$600/week</th>\n",
       "      <th>Poor English proficiency, persons</th>\n",
       "      <th>Dwellings with no internet</th>\n",
       "      <th>Aboriginal or Torres Strait Islander, persons</th>\n",
       "      <th>Holds degree or higher, persons</th>\n",
       "      <th>Population Density</th>\n",
       "    </tr>\n",
       "  </thead>\n",
       "  <tbody>\n",
       "    <tr>\n",
       "      <th>0</th>\n",
       "      <td>3.815789</td>\n",
       "      <td>4.264157</td>\n",
       "      <td>87</td>\n",
       "      <td>400</td>\n",
       "      <td>305</td>\n",
       "      <td>246</td>\n",
       "      <td>16</td>\n",
       "      <td>1784</td>\n",
       "      <td>3082.440714</td>\n",
       "    </tr>\n",
       "    <tr>\n",
       "      <th>1</th>\n",
       "      <td>4.684173</td>\n",
       "      <td>9.881527</td>\n",
       "      <td>66</td>\n",
       "      <td>265</td>\n",
       "      <td>45</td>\n",
       "      <td>193</td>\n",
       "      <td>12</td>\n",
       "      <td>877</td>\n",
       "      <td>2426.665450</td>\n",
       "    </tr>\n",
       "    <tr>\n",
       "      <th>2</th>\n",
       "      <td>NaN</td>\n",
       "      <td>134.213743</td>\n",
       "      <td>&lt;5</td>\n",
       "      <td>31</td>\n",
       "      <td>&lt;5</td>\n",
       "      <td>17</td>\n",
       "      <td>8</td>\n",
       "      <td>73</td>\n",
       "      <td>0.841522</td>\n",
       "    </tr>\n",
       "    <tr>\n",
       "      <th>3</th>\n",
       "      <td>1.226598</td>\n",
       "      <td>124.859887</td>\n",
       "      <td>19</td>\n",
       "      <td>137</td>\n",
       "      <td>&lt;5</td>\n",
       "      <td>68</td>\n",
       "      <td>8</td>\n",
       "      <td>245</td>\n",
       "      <td>213.059443</td>\n",
       "    </tr>\n",
       "    <tr>\n",
       "      <th>4</th>\n",
       "      <td>NaN</td>\n",
       "      <td>14.758418</td>\n",
       "      <td>&lt;5</td>\n",
       "      <td>121</td>\n",
       "      <td>14</td>\n",
       "      <td>64</td>\n",
       "      <td>7</td>\n",
       "      <td>84</td>\n",
       "      <td>210.819042</td>\n",
       "    </tr>\n",
       "  </tbody>\n",
       "</table>\n",
       "</div>"
      ],
      "text/plain": [
       "   % dwellings which are public housing  Distance to GPO (km)  \\\n",
       "0                              3.815789              4.264157   \n",
       "1                              4.684173              9.881527   \n",
       "2                                   NaN            134.213743   \n",
       "3                              1.226598            124.859887   \n",
       "4                                   NaN             14.758418   \n",
       "\n",
       "  Public Housing Dwellings Equivalent household income <$600/week  \\\n",
       "0                       87                                    400   \n",
       "1                       66                                    265   \n",
       "2                       <5                                     31   \n",
       "3                       19                                    137   \n",
       "4                       <5                                    121   \n",
       "\n",
       "  Poor English proficiency, persons Dwellings with no internet  \\\n",
       "0                               305                        246   \n",
       "1                                45                        193   \n",
       "2                                <5                         17   \n",
       "3                                <5                         68   \n",
       "4                                14                         64   \n",
       "\n",
       "  Aboriginal or Torres Strait Islander, persons  \\\n",
       "0                                            16   \n",
       "1                                            12   \n",
       "2                                             8   \n",
       "3                                             8   \n",
       "4                                             7   \n",
       "\n",
       "  Holds degree or higher, persons  Population Density  \n",
       "0                            1784         3082.440714  \n",
       "1                             877         2426.665450  \n",
       "2                              73            0.841522  \n",
       "3                             245          213.059443  \n",
       "4                              84          210.819042  "
      ]
     },
     "execution_count": 20,
     "metadata": {},
     "output_type": "execute_result"
    }
   ],
   "source": [
    "X.head() # Features \n"
   ]
  },
  {
   "cell_type": "code",
   "execution_count": 21,
   "metadata": {},
   "outputs": [
    {
     "data": {
      "text/plain": [
       "0    1054.014288\n",
       "1    1087.153516\n",
       "2    1061.326811\n",
       "3    1056.031657\n",
       "4    1033.615698\n",
       "Name: IRSD (avg), dtype: float64"
      ]
     },
     "execution_count": 21,
     "metadata": {},
     "output_type": "execute_result"
    }
   ],
   "source": [
    "y.head() # Label: IRSD(avg)"
   ]
  },
  {
   "cell_type": "code",
   "execution_count": 22,
   "metadata": {},
   "outputs": [],
   "source": [
    "# Load the filtered features and target data\n",
    "\n",
    "X.to_csv('Data/features_X.csv', index=False)\n",
    "y.to_csv('Data/target_y.csv', index=False)"
   ]
  },
  {
   "cell_type": "markdown",
   "metadata": {},
   "source": [
    "## **2 Data Cleaning and Preprocessing**\n",
    "\n",
    "* Ensure all missing or invalid values are handled.\n",
    "* Perform data normalization if required, especially if we plan to use algorithms like linear regression or KNN that are sensitive to data scales."
   ]
  },
  {
   "cell_type": "markdown",
   "metadata": {},
   "source": [
    "### **(1) Check for missing values in the dataset**"
   ]
  },
  {
   "cell_type": "code",
   "execution_count": 23,
   "metadata": {},
   "outputs": [],
   "source": [
    "# Load the filtered features and target data\n",
    "X = pd.read_csv('Data/features_X.csv')\n",
    "y = pd.read_csv('Data/target_y.csv')\n",
    "\n"
   ]
  },
  {
   "cell_type": "code",
   "execution_count": 28,
   "metadata": {},
   "outputs": [
    {
     "name": "stdout",
     "output_type": "stream",
     "text": [
      "\n",
      "Checking for missing values in the dataset:\n",
      "% dwellings which are public housing             0\n",
      "Distance to GPO (km)                             0\n",
      "Public Housing Dwellings                         0\n",
      "Equivalent household income <$600/week           0\n",
      "Poor English proficiency, persons                0\n",
      "Dwellings with no internet                       0\n",
      "Aboriginal or Torres Strait Islander, persons    0\n",
      "Holds degree or higher, persons                  0\n",
      "Population Density                               0\n",
      "dtype: int64\n"
     ]
    }
   ],
   "source": [
    "# Check for missing values\n",
    "print(\"\\nChecking for missing values in the dataset:\")\n",
    "print(X.isnull().sum())\n"
   ]
  },
  {
   "cell_type": "code",
   "execution_count": 25,
   "metadata": {},
   "outputs": [],
   "source": [
    "# Convert non-numeric values like '<5' to numeric \n",
    "X.replace('<5', 5, inplace=True)\n",
    "\n",
    "# Convert all columns to numeric if possible\n",
    "for col in X.columns:\n",
    "    X[col] = pd.to_numeric(X[col], errors='coerce')"
   ]
  },
  {
   "cell_type": "code",
   "execution_count": 27,
   "metadata": {},
   "outputs": [
    {
     "name": "stdout",
     "output_type": "stream",
     "text": [
      "There are missing values in the dataset. Handling missing values now.\n"
     ]
    },
    {
     "name": "stderr",
     "output_type": "stream",
     "text": [
      "/var/folders/3m/088n1dfd0sb6mhkppf4vd2dr0000gn/T/ipykernel_8322/4201044984.py:6: FutureWarning: A value is trying to be set on a copy of a DataFrame or Series through chained assignment using an inplace method.\n",
      "The behavior will change in pandas 3.0. This inplace method will never work because the intermediate object on which we are setting values always behaves as a copy.\n",
      "\n",
      "For example, when doing 'df[col].method(value, inplace=True)', try using 'df.method({col: value}, inplace=True)' or df[col] = df[col].method(value) instead, to perform the operation inplace on the original object.\n",
      "\n",
      "\n",
      "  X[col].fillna(X[col].median(), inplace=True)\n"
     ]
    }
   ],
   "source": [
    "# Check for missing values in the dataset\n",
    "if X.isnull().sum().any() or y.isnull().sum().any():\n",
    "    print(\"There are missing values in the dataset. Handling missing values now.\")\n",
    "    # Fill missing values with median for numerical features\n",
    "    for col in X.select_dtypes(include=['number']).columns:\n",
    "        X[col].fillna(X[col].median(), inplace=True)\n",
    "    # Fill missing values with mode for categorical features (if any)\n",
    "    for col in X.select_dtypes(include=['object']).columns:\n",
    "        X[col].fillna(X[col].mode()[0], inplace=True)"
   ]
  },
  {
   "cell_type": "markdown",
   "metadata": {},
   "source": [
    "### **(2) Removal collinearity**\n"
   ]
  },
  {
   "cell_type": "code",
   "execution_count": 29,
   "metadata": {},
   "outputs": [
    {
     "name": "stdout",
     "output_type": "stream",
     "text": [
      "\n",
      "Upper Triangle of Correlation Matrix:\n"
     ]
    },
    {
     "data": {
      "text/html": [
       "<div>\n",
       "<style scoped>\n",
       "    .dataframe tbody tr th:only-of-type {\n",
       "        vertical-align: middle;\n",
       "    }\n",
       "\n",
       "    .dataframe tbody tr th {\n",
       "        vertical-align: top;\n",
       "    }\n",
       "\n",
       "    .dataframe thead th {\n",
       "        text-align: right;\n",
       "    }\n",
       "</style>\n",
       "<table border=\"1\" class=\"dataframe\">\n",
       "  <thead>\n",
       "    <tr style=\"text-align: right;\">\n",
       "      <th></th>\n",
       "      <th>% dwellings which are public housing</th>\n",
       "      <th>Distance to GPO (km)</th>\n",
       "      <th>Public Housing Dwellings</th>\n",
       "      <th>Equivalent household income &lt;$600/week</th>\n",
       "      <th>Poor English proficiency, persons</th>\n",
       "      <th>Dwellings with no internet</th>\n",
       "      <th>Aboriginal or Torres Strait Islander, persons</th>\n",
       "      <th>Holds degree or higher, persons</th>\n",
       "      <th>Population Density</th>\n",
       "    </tr>\n",
       "  </thead>\n",
       "  <tbody>\n",
       "    <tr>\n",
       "      <th>% dwellings which are public housing</th>\n",
       "      <td>NaN</td>\n",
       "      <td>0.053928</td>\n",
       "      <td>0.639015</td>\n",
       "      <td>0.184397</td>\n",
       "      <td>0.137929</td>\n",
       "      <td>0.202796</td>\n",
       "      <td>0.222425</td>\n",
       "      <td>0.017475</td>\n",
       "      <td>0.187085</td>\n",
       "    </tr>\n",
       "    <tr>\n",
       "      <th>Distance to GPO (km)</th>\n",
       "      <td>NaN</td>\n",
       "      <td>NaN</td>\n",
       "      <td>0.123699</td>\n",
       "      <td>0.195515</td>\n",
       "      <td>0.280560</td>\n",
       "      <td>0.160891</td>\n",
       "      <td>0.090628</td>\n",
       "      <td>0.370361</td>\n",
       "      <td>0.497407</td>\n",
       "    </tr>\n",
       "    <tr>\n",
       "      <th>Public Housing Dwellings</th>\n",
       "      <td>NaN</td>\n",
       "      <td>NaN</td>\n",
       "      <td>NaN</td>\n",
       "      <td>0.701377</td>\n",
       "      <td>0.475657</td>\n",
       "      <td>0.723150</td>\n",
       "      <td>0.631942</td>\n",
       "      <td>0.406994</td>\n",
       "      <td>0.328614</td>\n",
       "    </tr>\n",
       "    <tr>\n",
       "      <th>Equivalent household income &lt;$600/week</th>\n",
       "      <td>NaN</td>\n",
       "      <td>NaN</td>\n",
       "      <td>NaN</td>\n",
       "      <td>NaN</td>\n",
       "      <td>0.709704</td>\n",
       "      <td>0.975595</td>\n",
       "      <td>0.674283</td>\n",
       "      <td>0.663377</td>\n",
       "      <td>0.326698</td>\n",
       "    </tr>\n",
       "    <tr>\n",
       "      <th>Poor English proficiency, persons</th>\n",
       "      <td>NaN</td>\n",
       "      <td>NaN</td>\n",
       "      <td>NaN</td>\n",
       "      <td>NaN</td>\n",
       "      <td>NaN</td>\n",
       "      <td>0.677571</td>\n",
       "      <td>0.269453</td>\n",
       "      <td>0.544159</td>\n",
       "      <td>0.376646</td>\n",
       "    </tr>\n",
       "    <tr>\n",
       "      <th>Dwellings with no internet</th>\n",
       "      <td>NaN</td>\n",
       "      <td>NaN</td>\n",
       "      <td>NaN</td>\n",
       "      <td>NaN</td>\n",
       "      <td>NaN</td>\n",
       "      <td>NaN</td>\n",
       "      <td>0.704293</td>\n",
       "      <td>0.614944</td>\n",
       "      <td>0.304507</td>\n",
       "    </tr>\n",
       "    <tr>\n",
       "      <th>Aboriginal or Torres Strait Islander, persons</th>\n",
       "      <td>NaN</td>\n",
       "      <td>NaN</td>\n",
       "      <td>NaN</td>\n",
       "      <td>NaN</td>\n",
       "      <td>NaN</td>\n",
       "      <td>NaN</td>\n",
       "      <td>NaN</td>\n",
       "      <td>0.229075</td>\n",
       "      <td>0.026501</td>\n",
       "    </tr>\n",
       "    <tr>\n",
       "      <th>Holds degree or higher, persons</th>\n",
       "      <td>NaN</td>\n",
       "      <td>NaN</td>\n",
       "      <td>NaN</td>\n",
       "      <td>NaN</td>\n",
       "      <td>NaN</td>\n",
       "      <td>NaN</td>\n",
       "      <td>NaN</td>\n",
       "      <td>NaN</td>\n",
       "      <td>0.593830</td>\n",
       "    </tr>\n",
       "    <tr>\n",
       "      <th>Population Density</th>\n",
       "      <td>NaN</td>\n",
       "      <td>NaN</td>\n",
       "      <td>NaN</td>\n",
       "      <td>NaN</td>\n",
       "      <td>NaN</td>\n",
       "      <td>NaN</td>\n",
       "      <td>NaN</td>\n",
       "      <td>NaN</td>\n",
       "      <td>NaN</td>\n",
       "    </tr>\n",
       "  </tbody>\n",
       "</table>\n",
       "</div>"
      ],
      "text/plain": [
       "                                               % dwellings which are public housing  \\\n",
       "% dwellings which are public housing                                            NaN   \n",
       "Distance to GPO (km)                                                            NaN   \n",
       "Public Housing Dwellings                                                        NaN   \n",
       "Equivalent household income <$600/week                                          NaN   \n",
       "Poor English proficiency, persons                                               NaN   \n",
       "Dwellings with no internet                                                      NaN   \n",
       "Aboriginal or Torres Strait Islander, persons                                   NaN   \n",
       "Holds degree or higher, persons                                                 NaN   \n",
       "Population Density                                                              NaN   \n",
       "\n",
       "                                               Distance to GPO (km)  \\\n",
       "% dwellings which are public housing                       0.053928   \n",
       "Distance to GPO (km)                                            NaN   \n",
       "Public Housing Dwellings                                        NaN   \n",
       "Equivalent household income <$600/week                          NaN   \n",
       "Poor English proficiency, persons                               NaN   \n",
       "Dwellings with no internet                                      NaN   \n",
       "Aboriginal or Torres Strait Islander, persons                   NaN   \n",
       "Holds degree or higher, persons                                 NaN   \n",
       "Population Density                                              NaN   \n",
       "\n",
       "                                               Public Housing Dwellings  \\\n",
       "% dwellings which are public housing                           0.639015   \n",
       "Distance to GPO (km)                                           0.123699   \n",
       "Public Housing Dwellings                                            NaN   \n",
       "Equivalent household income <$600/week                              NaN   \n",
       "Poor English proficiency, persons                                   NaN   \n",
       "Dwellings with no internet                                          NaN   \n",
       "Aboriginal or Torres Strait Islander, persons                       NaN   \n",
       "Holds degree or higher, persons                                     NaN   \n",
       "Population Density                                                  NaN   \n",
       "\n",
       "                                               Equivalent household income <$600/week  \\\n",
       "% dwellings which are public housing                                         0.184397   \n",
       "Distance to GPO (km)                                                         0.195515   \n",
       "Public Housing Dwellings                                                     0.701377   \n",
       "Equivalent household income <$600/week                                            NaN   \n",
       "Poor English proficiency, persons                                                 NaN   \n",
       "Dwellings with no internet                                                        NaN   \n",
       "Aboriginal or Torres Strait Islander, persons                                     NaN   \n",
       "Holds degree or higher, persons                                                   NaN   \n",
       "Population Density                                                                NaN   \n",
       "\n",
       "                                               Poor English proficiency, persons  \\\n",
       "% dwellings which are public housing                                    0.137929   \n",
       "Distance to GPO (km)                                                    0.280560   \n",
       "Public Housing Dwellings                                                0.475657   \n",
       "Equivalent household income <$600/week                                  0.709704   \n",
       "Poor English proficiency, persons                                            NaN   \n",
       "Dwellings with no internet                                                   NaN   \n",
       "Aboriginal or Torres Strait Islander, persons                                NaN   \n",
       "Holds degree or higher, persons                                              NaN   \n",
       "Population Density                                                           NaN   \n",
       "\n",
       "                                               Dwellings with no internet  \\\n",
       "% dwellings which are public housing                             0.202796   \n",
       "Distance to GPO (km)                                             0.160891   \n",
       "Public Housing Dwellings                                         0.723150   \n",
       "Equivalent household income <$600/week                           0.975595   \n",
       "Poor English proficiency, persons                                0.677571   \n",
       "Dwellings with no internet                                            NaN   \n",
       "Aboriginal or Torres Strait Islander, persons                         NaN   \n",
       "Holds degree or higher, persons                                       NaN   \n",
       "Population Density                                                    NaN   \n",
       "\n",
       "                                               Aboriginal or Torres Strait Islander, persons  \\\n",
       "% dwellings which are public housing                                                0.222425   \n",
       "Distance to GPO (km)                                                                0.090628   \n",
       "Public Housing Dwellings                                                            0.631942   \n",
       "Equivalent household income <$600/week                                              0.674283   \n",
       "Poor English proficiency, persons                                                   0.269453   \n",
       "Dwellings with no internet                                                          0.704293   \n",
       "Aboriginal or Torres Strait Islander, persons                                            NaN   \n",
       "Holds degree or higher, persons                                                          NaN   \n",
       "Population Density                                                                       NaN   \n",
       "\n",
       "                                               Holds degree or higher, persons  \\\n",
       "% dwellings which are public housing                                  0.017475   \n",
       "Distance to GPO (km)                                                  0.370361   \n",
       "Public Housing Dwellings                                              0.406994   \n",
       "Equivalent household income <$600/week                                0.663377   \n",
       "Poor English proficiency, persons                                     0.544159   \n",
       "Dwellings with no internet                                            0.614944   \n",
       "Aboriginal or Torres Strait Islander, persons                         0.229075   \n",
       "Holds degree or higher, persons                                            NaN   \n",
       "Population Density                                                         NaN   \n",
       "\n",
       "                                               Population Density  \n",
       "% dwellings which are public housing                     0.187085  \n",
       "Distance to GPO (km)                                     0.497407  \n",
       "Public Housing Dwellings                                 0.328614  \n",
       "Equivalent household income <$600/week                   0.326698  \n",
       "Poor English proficiency, persons                        0.376646  \n",
       "Dwellings with no internet                               0.304507  \n",
       "Aboriginal or Torres Strait Islander, persons            0.026501  \n",
       "Holds degree or higher, persons                          0.593830  \n",
       "Population Density                                            NaN  "
      ]
     },
     "execution_count": 29,
     "metadata": {},
     "output_type": "execute_result"
    }
   ],
   "source": [
    "# Calculate correlation matrix to identify collinear features\n",
    "correlation_matrix = X.corr().abs()\n",
    "\n",
    "# Select the upper triangle of the correlation matrix\n",
    "upper_triangle = correlation_matrix.where(np.triu(np.ones(correlation_matrix.shape), k=1).astype(bool))\n",
    "\n",
    "# Debug: Print the upper triangle of the correlation matrix\n",
    "print(\"\\nUpper Triangle of Correlation Matrix:\")\n",
    "upper_triangle\n",
    "\n"
   ]
  },
  {
   "cell_type": "code",
   "execution_count": 30,
   "metadata": {},
   "outputs": [
    {
     "name": "stdout",
     "output_type": "stream",
     "text": [
      "\n",
      "Collinear features to be removed: ['Dwellings with no internet']\n",
      "\n",
      "Remaining features after removing collinear features:\n",
      "Index(['% dwellings which are public housing', 'Distance to GPO (km)',\n",
      "       'Public Housing Dwellings', 'Equivalent household income <$600/week',\n",
      "       'Poor English proficiency, persons',\n",
      "       'Aboriginal or Torres Strait Islander, persons',\n",
      "       'Holds degree or higher, persons', 'Population Density'],\n",
      "      dtype='object')\n"
     ]
    }
   ],
   "source": [
    "# Find features with correlation greater than 0.9 and remove them\n",
    "collinear_features = [column for column in upper_triangle.columns if any(upper_triangle[column] > 0.9)]\n",
    "print(f\"\\nCollinear features to be removed: {collinear_features}\")\n",
    "\n",
    "# Drop collinear features\n",
    "X = X.drop(columns=collinear_features)\n",
    "\n",
    "# Debug: Check the remaining features\n",
    "print(\"\\nRemaining features after removing collinear features:\")\n",
    "print(X.columns)"
   ]
  },
  {
   "cell_type": "markdown",
   "metadata": {},
   "source": [
    "Base on the output:\n",
    "\n",
    "*Dwellings with no internet* were removed because it had a high collinearity (correlation greater than 0.9) with other features, meaning it provided duplicate information with one or more other features. If it continues to be retained, it may result in multicollinearity in the model, which affects the stability and accuracy of the model."
   ]
  },
  {
   "cell_type": "markdown",
   "metadata": {},
   "source": [
    "### **(3) Standardizing**"
   ]
  },
  {
   "cell_type": "code",
   "execution_count": 34,
   "metadata": {},
   "outputs": [],
   "source": [
    "# Standardize the data\n",
    "scaler = StandardScaler()\n",
    "X_scaled = scaler.fit_transform(X)\n"
   ]
  },
  {
   "cell_type": "code",
   "execution_count": 36,
   "metadata": {},
   "outputs": [
    {
     "name": "stdout",
     "output_type": "stream",
     "text": [
      "\n",
      "Training set mean after scaling: [ 1.97372982e-17  9.21073917e-17  2.30268479e-17 -6.00342821e-17\n",
      " -1.64477485e-18 -3.28954970e-18  1.97372982e-17 -1.18423789e-16]\n",
      "Training set standard deviation after scaling: [1. 1. 1. 1. 1. 1. 1. 1.]\n"
     ]
    }
   ],
   "source": [
    "# Debug: Check the mean and standard deviation after scaling\n",
    "print(\"\\nTraining set mean after scaling:\", X_scaled.mean(axis=0))\n",
    "print(\"Training set standard deviation after scaling:\", X_scaled.std(axis=0))\n"
   ]
  },
  {
   "cell_type": "markdown",
   "metadata": {},
   "source": [
    "Check the feature mean and standard deviation of the training and test sets to ensure that they are normalized (mean 0, standard deviation 1)."
   ]
  },
  {
   "cell_type": "markdown",
   "metadata": {},
   "source": [
    "### **(4) Data Partitioning (70/30)**\n"
   ]
  },
  {
   "cell_type": "code",
   "execution_count": 39,
   "metadata": {},
   "outputs": [
    {
     "name": "stdout",
     "output_type": "stream",
     "text": [
      "Training set shape: (604, 8)\n",
      "Validation set shape: (152, 8)\n",
      "Test set shape: (324, 8)\n"
     ]
    }
   ],
   "source": [
    "# Split the dataset into training (70%) and testing (30%) sets\n",
    "X_train, X_test, y_train, y_test = train_test_split(X, y, test_size=0.3, random_state=42)\n",
    "\n",
    "# Further split the training set into training (80%) and validation (20%) sets\n",
    "X_train, X_val, y_train, y_val = train_test_split(X_train, y_train, test_size=0.2, random_state=42)\n",
    "\n",
    "# Debug: Check the sizes of each dataset\n",
    "print(\"Training set shape:\", X_train.shape)\n",
    "print(\"Validation set shape:\", X_val.shape)\n",
    "print(\"Test set shape:\", X_test.shape)"
   ]
  },
  {
   "cell_type": "markdown",
   "metadata": {},
   "source": [
    "## **3 Model Selection**"
   ]
  },
  {
   "cell_type": "markdown",
   "metadata": {},
   "source": [
    "### **Linear Regression**"
   ]
  },
  {
   "cell_type": "markdown",
   "metadata": {},
   "source": [
    "### **Random Forest**"
   ]
  },
  {
   "cell_type": "markdown",
   "metadata": {},
   "source": [
    "### **K-means Cluster**"
   ]
  },
  {
   "cell_type": "markdown",
   "metadata": {},
   "source": [
    "## **Model Training**\n",
    "Train each model on the training dataset and validate using cross-validation to ensure the robustness of your models."
   ]
  },
  {
   "cell_type": "markdown",
   "metadata": {},
   "source": [
    "## **Model Evaluation**"
   ]
  },
  {
   "cell_type": "markdown",
   "metadata": {},
   "source": [
    "## **Interpretation**"
   ]
  }
 ],
 "metadata": {
  "kernelspec": {
   "display_name": "Python 3",
   "language": "python",
   "name": "python3"
  },
  "language_info": {
   "codemirror_mode": {
    "name": "ipython",
    "version": 3
   },
   "file_extension": ".py",
   "mimetype": "text/x-python",
   "name": "python",
   "nbconvert_exporter": "python",
   "pygments_lexer": "ipython3",
   "version": "3.11.9"
  }
 },
 "nbformat": 4,
 "nbformat_minor": 2
}
