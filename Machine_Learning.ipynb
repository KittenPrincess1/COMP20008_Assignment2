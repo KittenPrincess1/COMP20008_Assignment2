{
 "cells": [
  {
   "cell_type": "markdown",
   "metadata": {},
   "source": [
    "# **Assignment2-Machine Learning**"
   ]
  },
  {
   "cell_type": "markdown",
   "metadata": {},
   "source": [
    "## **1 Simple Correlation Analysis**"
   ]
  },
  {
   "cell_type": "markdown",
   "metadata": {},
   "source": [
    "Feature Selection and Dataset Preparation:\n",
    "* Based on the earlier EDA, we have identified population, income, education, and other factors that might be important predictors of IRSD.\n",
    "* We select relevant columns related to population characteristics, education, residential status, cultural background, and minority representation.\n",
    "* Next we will use correlation analysis to determine the relationships between the selected features and IRSD."
   ]
  },
  {
   "cell_type": "code",
   "execution_count": 26,
   "metadata": {},
   "outputs": [],
   "source": [
    "import pandas as pd\n",
    "import numpy as np\n",
    "from sklearn.model_selection import train_test_split, cross_val_score\n",
    "from sklearn.preprocessing import StandardScaler, PolynomialFeatures\n",
    "from sklearn.linear_model import LinearRegression, Ridge, Lasso\n",
    "from sklearn.metrics import mean_squared_error, r2_score\n",
    "from sklearn.decomposition import PCA"
   ]
  },
  {
   "cell_type": "code",
   "execution_count": 27,
   "metadata": {},
   "outputs": [
    {
     "name": "stdout",
     "output_type": "stream",
     "text": [
      "IRSD (avg)                                       1.000000\n",
      "Holds degree or higher, persons                  0.238098\n",
      "Population Density                               0.152509\n",
      "Primary school students                          0.087607\n",
      "Secondary school students                        0.081053\n",
      "2012 ERP age 10-14, persons                      0.060856\n",
      "2012 ERP age 5-9, persons                        0.060523\n",
      "2012 ERP age 15-19, persons                      0.052011\n",
      "2012 ERP age 20-24, persons                      0.039232\n",
      "2012 ERP age 0-4, persons                        0.023887\n",
      "Born overseas, persons                          -0.008502\n",
      "Travel time to nearest public hospital          -0.019597\n",
      "TAFE students                                   -0.034866\n",
      "Personal income <$400/week, persons             -0.047917\n",
      "Primary Schools                                 -0.051335\n",
      "Born in non-English speaking country, persons   -0.053694\n",
      "Dwellings with no motor vehicle                 -0.058276\n",
      "Did not complete year 12, persons               -0.065204\n",
      "Secondary Schools                               -0.069079\n",
      "Speaks LOTE at home, persons                    -0.070013\n",
      "Unemployed, persons                             -0.070714\n",
      "Public hospital separations, 2012-13            -0.113570\n",
      "Equivalent household income <$600/week          -0.146489\n",
      "Poor English proficiency, persons               -0.170452\n",
      "Dwellings with no internet                      -0.174407\n",
      "Aboriginal or Torres Strait Islander, persons   -0.193499\n",
      "Public Housing Dwellings                        -0.284226\n",
      "Distance to GPO (km)                            -0.332491\n",
      "% dwellings which are public housing            -0.429429\n",
      "Name: IRSD (avg), dtype: float64\n"
     ]
    }
   ],
   "source": [
    "df = pd.read_csv('Data/communities.csv')\n",
    "\n",
    "columns_of_interest = [\n",
    "    'IRSD (avg)', \n",
    "    'Equivalent household income <$600/week', \n",
    "    'Personal income <$400/week, persons', \n",
    "    'Unemployed, persons', \n",
    "    'Public Housing Dwellings',\n",
    "    '% dwellings which are public housing',\n",
    "    'Primary school students', \n",
    "    'Secondary school students', \n",
    "    'TAFE students', \n",
    "    'Holds degree or higher, persons', \n",
    "    'Did not complete year 12, persons',\n",
    "    'Population Density',\n",
    "    'Distance to GPO (km)',  \n",
    "    'Dwellings with no motor vehicle',\n",
    "    'Dwellings with no internet',\n",
    "    'Born overseas, persons', \n",
    "    'Born in non-English speaking country, persons', \n",
    "    'Speaks LOTE at home, persons',\n",
    "    'Aboriginal or Torres Strait Islander, persons',\n",
    "    'Poor English proficiency, persons',\n",
    "    '2012 ERP age 0-4, persons', \n",
    "    '2012 ERP age 5-9, persons', \n",
    "    '2012 ERP age 10-14, persons', \n",
    "    '2012 ERP age 15-19, persons', \n",
    "    '2012 ERP age 20-24, persons', \n",
    "    'Public hospital separations, 2012-13',\n",
    "    'Travel time to nearest public hospital',\n",
    "    'Primary Schools', \n",
    "    'Secondary Schools'\n",
    "]\n",
    "\n",
    "for col in columns_of_interest:\n",
    "    if col not in df.columns:\n",
    "        print(f\"Column '{col}' does not exist in the data\")\n",
    "\n",
    "df_filtered = df[[col for col in columns_of_interest if col in df.columns]].copy()\n",
    "\n",
    "df_filtered.replace('<5', 5, inplace=True)\n",
    "\n",
    "for col in df_filtered.columns:\n",
    "    if df_filtered[col].isnull().sum() > 0:\n",
    "        df_filtered[col] = df_filtered[col].fillna(df_filtered[col].median())\n",
    "\n",
    "correlation_matrix = df_filtered.corr()\n",
    "\n",
    "irsd_correlations = correlation_matrix['IRSD (avg)'].sort_values(ascending=False)\n",
    "\n",
    "pd.set_option('display.max_rows', None)  \n",
    "print(irsd_correlations)"
   ]
  },
  {
   "cell_type": "markdown",
   "metadata": {},
   "source": [
    "| Feature                                  | Correlation Index | Analysis                                                                                                                                   |\n",
    "|------------------------------------------|-------------------|--------------------------------------------------------------------------------------------------------------------------------------------|\n",
    "| % dwellings which are public housing     | -0.429            | Public housing proportion is a strong indicator of socio-economic disadvantage.                                                           |\n",
    "| Distance to GPO (km)                     | -0.332            | Distance from the city center is associated with economic underdevelopment, as remote areas may lack access to resources and opportunities.|\n",
    "| Public Housing Dwellings                 | -0.284            | The number of public housing dwellings indicates communities that might rely on public welfare, often associated with socio-economic disadvantage. |\n",
    "| Equivalent household income <$600/week   | -0.146            | The proportion of low-income households indicates economic hardship and socio-economic disadvantage.                                       |\n",
    "| Poor English proficiency, persons        | -0.170            | Poor language proficiency is strongly associated with socio-economic disadvantage, affecting access to education and employment opportunities. |\n",
    "| Dwellings with no internet               | -0.174            | Lack of internet access reflects digital exclusion, often linked to socio-economic disadvantage.                                           |\n",
    "| Aboriginal or Torres Strait Islander, persons | -0.193          | Areas with higher Indigenous populations often face socio-economic disadvantages, indicating systemic challenges.                         |\n",
    "| Holds degree or higher, persons          | 0.238             | Higher educational attainment is a strong indicator of socio-economic advantage.                                                          |\n",
    "| Population Density                       | 0.153             | Higher population density is often associated with better socio-economic status due to concentration of resources and opportunities.       |"
   ]
  },
  {
   "cell_type": "code",
   "execution_count": 28,
   "metadata": {},
   "outputs": [],
   "source": [
    "columns_of_ml = [\n",
    "    'IRSD (avg)', \n",
    "    '% dwellings which are public housing', \n",
    "    'Distance to GPO (km)', \n",
    "    'Public Housing Dwellings', \n",
    "    'Equivalent household income <$600/week',\n",
    "    'Poor English proficiency, persons',\n",
    "    'Dwellings with no internet',\n",
    "    'Aboriginal or Torres Strait Islander, persons',\n",
    "    'Holds degree or higher, persons',\n",
    "    'Population Density'\n",
    "]\n",
    "\n",
    "for col in columns_of_ml:\n",
    "    if col not in df.columns:\n",
    "        print(f\"Column '{col}' does not exist in the data\")\n"
   ]
  },
  {
   "cell_type": "code",
   "execution_count": 29,
   "metadata": {},
   "outputs": [],
   "source": [
    "df_filtered = df[[col for col in columns_of_ml if col in df.columns]].copy()\n",
    "\n",
    "X = df_filtered.drop(columns=['IRSD (avg)'])\n",
    "y = df_filtered['IRSD (avg)']\n"
   ]
  },
  {
   "cell_type": "code",
   "execution_count": 30,
   "metadata": {},
   "outputs": [
    {
     "data": {
      "text/html": [
       "<div>\n",
       "<style scoped>\n",
       "    .dataframe tbody tr th:only-of-type {\n",
       "        vertical-align: middle;\n",
       "    }\n",
       "\n",
       "    .dataframe tbody tr th {\n",
       "        vertical-align: top;\n",
       "    }\n",
       "\n",
       "    .dataframe thead th {\n",
       "        text-align: right;\n",
       "    }\n",
       "</style>\n",
       "<table border=\"1\" class=\"dataframe\">\n",
       "  <thead>\n",
       "    <tr style=\"text-align: right;\">\n",
       "      <th></th>\n",
       "      <th>% dwellings which are public housing</th>\n",
       "      <th>Distance to GPO (km)</th>\n",
       "      <th>Public Housing Dwellings</th>\n",
       "      <th>Equivalent household income &lt;$600/week</th>\n",
       "      <th>Poor English proficiency, persons</th>\n",
       "      <th>Dwellings with no internet</th>\n",
       "      <th>Aboriginal or Torres Strait Islander, persons</th>\n",
       "      <th>Holds degree or higher, persons</th>\n",
       "      <th>Population Density</th>\n",
       "    </tr>\n",
       "  </thead>\n",
       "  <tbody>\n",
       "    <tr>\n",
       "      <th>0</th>\n",
       "      <td>3.815789</td>\n",
       "      <td>4.264157</td>\n",
       "      <td>87</td>\n",
       "      <td>400</td>\n",
       "      <td>305</td>\n",
       "      <td>246</td>\n",
       "      <td>16</td>\n",
       "      <td>1784</td>\n",
       "      <td>3082.440714</td>\n",
       "    </tr>\n",
       "    <tr>\n",
       "      <th>1</th>\n",
       "      <td>4.684173</td>\n",
       "      <td>9.881527</td>\n",
       "      <td>66</td>\n",
       "      <td>265</td>\n",
       "      <td>45</td>\n",
       "      <td>193</td>\n",
       "      <td>12</td>\n",
       "      <td>877</td>\n",
       "      <td>2426.665450</td>\n",
       "    </tr>\n",
       "    <tr>\n",
       "      <th>2</th>\n",
       "      <td>NaN</td>\n",
       "      <td>134.213743</td>\n",
       "      <td>&lt;5</td>\n",
       "      <td>31</td>\n",
       "      <td>&lt;5</td>\n",
       "      <td>17</td>\n",
       "      <td>8</td>\n",
       "      <td>73</td>\n",
       "      <td>0.841522</td>\n",
       "    </tr>\n",
       "    <tr>\n",
       "      <th>3</th>\n",
       "      <td>1.226598</td>\n",
       "      <td>124.859887</td>\n",
       "      <td>19</td>\n",
       "      <td>137</td>\n",
       "      <td>&lt;5</td>\n",
       "      <td>68</td>\n",
       "      <td>8</td>\n",
       "      <td>245</td>\n",
       "      <td>213.059443</td>\n",
       "    </tr>\n",
       "    <tr>\n",
       "      <th>4</th>\n",
       "      <td>NaN</td>\n",
       "      <td>14.758418</td>\n",
       "      <td>&lt;5</td>\n",
       "      <td>121</td>\n",
       "      <td>14</td>\n",
       "      <td>64</td>\n",
       "      <td>7</td>\n",
       "      <td>84</td>\n",
       "      <td>210.819042</td>\n",
       "    </tr>\n",
       "  </tbody>\n",
       "</table>\n",
       "</div>"
      ],
      "text/plain": [
       "   % dwellings which are public housing  Distance to GPO (km)  \\\n",
       "0                              3.815789              4.264157   \n",
       "1                              4.684173              9.881527   \n",
       "2                                   NaN            134.213743   \n",
       "3                              1.226598            124.859887   \n",
       "4                                   NaN             14.758418   \n",
       "\n",
       "  Public Housing Dwellings Equivalent household income <$600/week  \\\n",
       "0                       87                                    400   \n",
       "1                       66                                    265   \n",
       "2                       <5                                     31   \n",
       "3                       19                                    137   \n",
       "4                       <5                                    121   \n",
       "\n",
       "  Poor English proficiency, persons Dwellings with no internet  \\\n",
       "0                               305                        246   \n",
       "1                                45                        193   \n",
       "2                                <5                         17   \n",
       "3                                <5                         68   \n",
       "4                                14                         64   \n",
       "\n",
       "  Aboriginal or Torres Strait Islander, persons  \\\n",
       "0                                            16   \n",
       "1                                            12   \n",
       "2                                             8   \n",
       "3                                             8   \n",
       "4                                             7   \n",
       "\n",
       "  Holds degree or higher, persons  Population Density  \n",
       "0                            1784         3082.440714  \n",
       "1                             877         2426.665450  \n",
       "2                              73            0.841522  \n",
       "3                             245          213.059443  \n",
       "4                              84          210.819042  "
      ]
     },
     "execution_count": 30,
     "metadata": {},
     "output_type": "execute_result"
    }
   ],
   "source": [
    "X.head() # Features \n"
   ]
  },
  {
   "cell_type": "code",
   "execution_count": 31,
   "metadata": {},
   "outputs": [
    {
     "data": {
      "text/plain": [
       "0    1054.014288\n",
       "1    1087.153516\n",
       "2    1061.326811\n",
       "3    1056.031657\n",
       "4    1033.615698\n",
       "Name: IRSD (avg), dtype: float64"
      ]
     },
     "execution_count": 31,
     "metadata": {},
     "output_type": "execute_result"
    }
   ],
   "source": [
    "y.head() # Label: IRSD(avg)"
   ]
  },
  {
   "cell_type": "code",
   "execution_count": 32,
   "metadata": {},
   "outputs": [],
   "source": [
    "# Load the filtered features and target data\n",
    "\n",
    "X.to_csv('Data/features_X.csv', index=False)\n",
    "y.to_csv('Data/target_y.csv', index=False)"
   ]
  },
  {
   "cell_type": "markdown",
   "metadata": {},
   "source": [
    "## **2 Data Cleaning and Preprocessing**\n",
    "\n",
    "* Ensure all missing or invalid values are handled.\n",
    "* Perform data normalization if required, especially if we plan to use algorithms like linear regression or KNN that are sensitive to data scales."
   ]
  },
  {
   "cell_type": "markdown",
   "metadata": {},
   "source": [
    "### **(1) Check for missing values in the dataset**"
   ]
  },
  {
   "cell_type": "code",
   "execution_count": 33,
   "metadata": {},
   "outputs": [],
   "source": [
    "# Load the filtered features and target data\n",
    "X = pd.read_csv('Data/features_X.csv')\n",
    "y = pd.read_csv('Data/target_y.csv')\n",
    "\n"
   ]
  },
  {
   "cell_type": "code",
   "execution_count": 34,
   "metadata": {},
   "outputs": [
    {
     "name": "stdout",
     "output_type": "stream",
     "text": [
      "\n",
      "Checking for missing values in the dataset:\n",
      "% dwellings which are public housing             427\n",
      "Distance to GPO (km)                               0\n",
      "Public Housing Dwellings                           0\n",
      "Equivalent household income <$600/week             0\n",
      "Poor English proficiency, persons                  0\n",
      "Dwellings with no internet                         0\n",
      "Aboriginal or Torres Strait Islander, persons      0\n",
      "Holds degree or higher, persons                    0\n",
      "Population Density                                 0\n",
      "dtype: int64\n"
     ]
    }
   ],
   "source": [
    "# Check for missing values\n",
    "print(\"\\nChecking for missing values in the dataset:\")\n",
    "print(X.isnull().sum())\n"
   ]
  },
  {
   "cell_type": "code",
   "execution_count": 35,
   "metadata": {},
   "outputs": [],
   "source": [
    "# Convert non-numeric values like '<5' to numeric \n",
    "X.replace('<5', 5, inplace=True)\n",
    "\n",
    "# Convert all columns to numeric if possible\n",
    "for col in X.columns:\n",
    "    X[col] = pd.to_numeric(X[col], errors='coerce')"
   ]
  },
  {
   "cell_type": "code",
   "execution_count": 36,
   "metadata": {},
   "outputs": [
    {
     "name": "stdout",
     "output_type": "stream",
     "text": [
      "There are missing values in the dataset. Handling missing values now.\n"
     ]
    },
    {
     "name": "stderr",
     "output_type": "stream",
     "text": [
      "/var/folders/3m/088n1dfd0sb6mhkppf4vd2dr0000gn/T/ipykernel_18174/4201044984.py:6: FutureWarning: A value is trying to be set on a copy of a DataFrame or Series through chained assignment using an inplace method.\n",
      "The behavior will change in pandas 3.0. This inplace method will never work because the intermediate object on which we are setting values always behaves as a copy.\n",
      "\n",
      "For example, when doing 'df[col].method(value, inplace=True)', try using 'df.method({col: value}, inplace=True)' or df[col] = df[col].method(value) instead, to perform the operation inplace on the original object.\n",
      "\n",
      "\n",
      "  X[col].fillna(X[col].median(), inplace=True)\n"
     ]
    }
   ],
   "source": [
    "# Check for missing values in the dataset\n",
    "if X.isnull().sum().any() or y.isnull().sum().any():\n",
    "    print(\"There are missing values in the dataset. Handling missing values now.\")\n",
    "    # Fill missing values with median for numerical features\n",
    "    for col in X.select_dtypes(include=['number']).columns:\n",
    "        X[col].fillna(X[col].median(), inplace=True)\n",
    "    # Fill missing values with mode for categorical features (if any)\n",
    "    for col in X.select_dtypes(include=['object']).columns:\n",
    "        X[col].fillna(X[col].mode()[0], inplace=True)"
   ]
  },
  {
   "cell_type": "markdown",
   "metadata": {},
   "source": [
    "### **(2) Removal collinearity**\n"
   ]
  },
  {
   "cell_type": "code",
   "execution_count": 37,
   "metadata": {},
   "outputs": [
    {
     "name": "stdout",
     "output_type": "stream",
     "text": [
      "\n",
      "Upper Triangle of Correlation Matrix:\n"
     ]
    },
    {
     "data": {
      "text/html": [
       "<div>\n",
       "<style scoped>\n",
       "    .dataframe tbody tr th:only-of-type {\n",
       "        vertical-align: middle;\n",
       "    }\n",
       "\n",
       "    .dataframe tbody tr th {\n",
       "        vertical-align: top;\n",
       "    }\n",
       "\n",
       "    .dataframe thead th {\n",
       "        text-align: right;\n",
       "    }\n",
       "</style>\n",
       "<table border=\"1\" class=\"dataframe\">\n",
       "  <thead>\n",
       "    <tr style=\"text-align: right;\">\n",
       "      <th></th>\n",
       "      <th>% dwellings which are public housing</th>\n",
       "      <th>Distance to GPO (km)</th>\n",
       "      <th>Public Housing Dwellings</th>\n",
       "      <th>Equivalent household income &lt;$600/week</th>\n",
       "      <th>Poor English proficiency, persons</th>\n",
       "      <th>Dwellings with no internet</th>\n",
       "      <th>Aboriginal or Torres Strait Islander, persons</th>\n",
       "      <th>Holds degree or higher, persons</th>\n",
       "      <th>Population Density</th>\n",
       "    </tr>\n",
       "  </thead>\n",
       "  <tbody>\n",
       "    <tr>\n",
       "      <th>% dwellings which are public housing</th>\n",
       "      <td>NaN</td>\n",
       "      <td>0.053928</td>\n",
       "      <td>0.639015</td>\n",
       "      <td>0.184397</td>\n",
       "      <td>0.137929</td>\n",
       "      <td>0.202796</td>\n",
       "      <td>0.222425</td>\n",
       "      <td>0.017475</td>\n",
       "      <td>0.187085</td>\n",
       "    </tr>\n",
       "    <tr>\n",
       "      <th>Distance to GPO (km)</th>\n",
       "      <td>NaN</td>\n",
       "      <td>NaN</td>\n",
       "      <td>0.123699</td>\n",
       "      <td>0.195515</td>\n",
       "      <td>0.280560</td>\n",
       "      <td>0.160891</td>\n",
       "      <td>0.090628</td>\n",
       "      <td>0.370361</td>\n",
       "      <td>0.497407</td>\n",
       "    </tr>\n",
       "    <tr>\n",
       "      <th>Public Housing Dwellings</th>\n",
       "      <td>NaN</td>\n",
       "      <td>NaN</td>\n",
       "      <td>NaN</td>\n",
       "      <td>0.701377</td>\n",
       "      <td>0.475657</td>\n",
       "      <td>0.723150</td>\n",
       "      <td>0.631942</td>\n",
       "      <td>0.406994</td>\n",
       "      <td>0.328614</td>\n",
       "    </tr>\n",
       "    <tr>\n",
       "      <th>Equivalent household income &lt;$600/week</th>\n",
       "      <td>NaN</td>\n",
       "      <td>NaN</td>\n",
       "      <td>NaN</td>\n",
       "      <td>NaN</td>\n",
       "      <td>0.709704</td>\n",
       "      <td>0.975595</td>\n",
       "      <td>0.674283</td>\n",
       "      <td>0.663377</td>\n",
       "      <td>0.326698</td>\n",
       "    </tr>\n",
       "    <tr>\n",
       "      <th>Poor English proficiency, persons</th>\n",
       "      <td>NaN</td>\n",
       "      <td>NaN</td>\n",
       "      <td>NaN</td>\n",
       "      <td>NaN</td>\n",
       "      <td>NaN</td>\n",
       "      <td>0.677571</td>\n",
       "      <td>0.269453</td>\n",
       "      <td>0.544159</td>\n",
       "      <td>0.376646</td>\n",
       "    </tr>\n",
       "    <tr>\n",
       "      <th>Dwellings with no internet</th>\n",
       "      <td>NaN</td>\n",
       "      <td>NaN</td>\n",
       "      <td>NaN</td>\n",
       "      <td>NaN</td>\n",
       "      <td>NaN</td>\n",
       "      <td>NaN</td>\n",
       "      <td>0.704293</td>\n",
       "      <td>0.614944</td>\n",
       "      <td>0.304507</td>\n",
       "    </tr>\n",
       "    <tr>\n",
       "      <th>Aboriginal or Torres Strait Islander, persons</th>\n",
       "      <td>NaN</td>\n",
       "      <td>NaN</td>\n",
       "      <td>NaN</td>\n",
       "      <td>NaN</td>\n",
       "      <td>NaN</td>\n",
       "      <td>NaN</td>\n",
       "      <td>NaN</td>\n",
       "      <td>0.229075</td>\n",
       "      <td>0.026501</td>\n",
       "    </tr>\n",
       "    <tr>\n",
       "      <th>Holds degree or higher, persons</th>\n",
       "      <td>NaN</td>\n",
       "      <td>NaN</td>\n",
       "      <td>NaN</td>\n",
       "      <td>NaN</td>\n",
       "      <td>NaN</td>\n",
       "      <td>NaN</td>\n",
       "      <td>NaN</td>\n",
       "      <td>NaN</td>\n",
       "      <td>0.593830</td>\n",
       "    </tr>\n",
       "    <tr>\n",
       "      <th>Population Density</th>\n",
       "      <td>NaN</td>\n",
       "      <td>NaN</td>\n",
       "      <td>NaN</td>\n",
       "      <td>NaN</td>\n",
       "      <td>NaN</td>\n",
       "      <td>NaN</td>\n",
       "      <td>NaN</td>\n",
       "      <td>NaN</td>\n",
       "      <td>NaN</td>\n",
       "    </tr>\n",
       "  </tbody>\n",
       "</table>\n",
       "</div>"
      ],
      "text/plain": [
       "                                               % dwellings which are public housing  \\\n",
       "% dwellings which are public housing                                            NaN   \n",
       "Distance to GPO (km)                                                            NaN   \n",
       "Public Housing Dwellings                                                        NaN   \n",
       "Equivalent household income <$600/week                                          NaN   \n",
       "Poor English proficiency, persons                                               NaN   \n",
       "Dwellings with no internet                                                      NaN   \n",
       "Aboriginal or Torres Strait Islander, persons                                   NaN   \n",
       "Holds degree or higher, persons                                                 NaN   \n",
       "Population Density                                                              NaN   \n",
       "\n",
       "                                               Distance to GPO (km)  \\\n",
       "% dwellings which are public housing                       0.053928   \n",
       "Distance to GPO (km)                                            NaN   \n",
       "Public Housing Dwellings                                        NaN   \n",
       "Equivalent household income <$600/week                          NaN   \n",
       "Poor English proficiency, persons                               NaN   \n",
       "Dwellings with no internet                                      NaN   \n",
       "Aboriginal or Torres Strait Islander, persons                   NaN   \n",
       "Holds degree or higher, persons                                 NaN   \n",
       "Population Density                                              NaN   \n",
       "\n",
       "                                               Public Housing Dwellings  \\\n",
       "% dwellings which are public housing                           0.639015   \n",
       "Distance to GPO (km)                                           0.123699   \n",
       "Public Housing Dwellings                                            NaN   \n",
       "Equivalent household income <$600/week                              NaN   \n",
       "Poor English proficiency, persons                                   NaN   \n",
       "Dwellings with no internet                                          NaN   \n",
       "Aboriginal or Torres Strait Islander, persons                       NaN   \n",
       "Holds degree or higher, persons                                     NaN   \n",
       "Population Density                                                  NaN   \n",
       "\n",
       "                                               Equivalent household income <$600/week  \\\n",
       "% dwellings which are public housing                                         0.184397   \n",
       "Distance to GPO (km)                                                         0.195515   \n",
       "Public Housing Dwellings                                                     0.701377   \n",
       "Equivalent household income <$600/week                                            NaN   \n",
       "Poor English proficiency, persons                                                 NaN   \n",
       "Dwellings with no internet                                                        NaN   \n",
       "Aboriginal or Torres Strait Islander, persons                                     NaN   \n",
       "Holds degree or higher, persons                                                   NaN   \n",
       "Population Density                                                                NaN   \n",
       "\n",
       "                                               Poor English proficiency, persons  \\\n",
       "% dwellings which are public housing                                    0.137929   \n",
       "Distance to GPO (km)                                                    0.280560   \n",
       "Public Housing Dwellings                                                0.475657   \n",
       "Equivalent household income <$600/week                                  0.709704   \n",
       "Poor English proficiency, persons                                            NaN   \n",
       "Dwellings with no internet                                                   NaN   \n",
       "Aboriginal or Torres Strait Islander, persons                                NaN   \n",
       "Holds degree or higher, persons                                              NaN   \n",
       "Population Density                                                           NaN   \n",
       "\n",
       "                                               Dwellings with no internet  \\\n",
       "% dwellings which are public housing                             0.202796   \n",
       "Distance to GPO (km)                                             0.160891   \n",
       "Public Housing Dwellings                                         0.723150   \n",
       "Equivalent household income <$600/week                           0.975595   \n",
       "Poor English proficiency, persons                                0.677571   \n",
       "Dwellings with no internet                                            NaN   \n",
       "Aboriginal or Torres Strait Islander, persons                         NaN   \n",
       "Holds degree or higher, persons                                       NaN   \n",
       "Population Density                                                    NaN   \n",
       "\n",
       "                                               Aboriginal or Torres Strait Islander, persons  \\\n",
       "% dwellings which are public housing                                                0.222425   \n",
       "Distance to GPO (km)                                                                0.090628   \n",
       "Public Housing Dwellings                                                            0.631942   \n",
       "Equivalent household income <$600/week                                              0.674283   \n",
       "Poor English proficiency, persons                                                   0.269453   \n",
       "Dwellings with no internet                                                          0.704293   \n",
       "Aboriginal or Torres Strait Islander, persons                                            NaN   \n",
       "Holds degree or higher, persons                                                          NaN   \n",
       "Population Density                                                                       NaN   \n",
       "\n",
       "                                               Holds degree or higher, persons  \\\n",
       "% dwellings which are public housing                                  0.017475   \n",
       "Distance to GPO (km)                                                  0.370361   \n",
       "Public Housing Dwellings                                              0.406994   \n",
       "Equivalent household income <$600/week                                0.663377   \n",
       "Poor English proficiency, persons                                     0.544159   \n",
       "Dwellings with no internet                                            0.614944   \n",
       "Aboriginal or Torres Strait Islander, persons                         0.229075   \n",
       "Holds degree or higher, persons                                            NaN   \n",
       "Population Density                                                         NaN   \n",
       "\n",
       "                                               Population Density  \n",
       "% dwellings which are public housing                     0.187085  \n",
       "Distance to GPO (km)                                     0.497407  \n",
       "Public Housing Dwellings                                 0.328614  \n",
       "Equivalent household income <$600/week                   0.326698  \n",
       "Poor English proficiency, persons                        0.376646  \n",
       "Dwellings with no internet                               0.304507  \n",
       "Aboriginal or Torres Strait Islander, persons            0.026501  \n",
       "Holds degree or higher, persons                          0.593830  \n",
       "Population Density                                            NaN  "
      ]
     },
     "execution_count": 37,
     "metadata": {},
     "output_type": "execute_result"
    }
   ],
   "source": [
    "# Calculate correlation matrix to identify collinear features\n",
    "correlation_matrix = X.corr().abs()\n",
    "\n",
    "# Select the upper triangle of the correlation matrix\n",
    "upper_triangle = correlation_matrix.where(np.triu(np.ones(correlation_matrix.shape), k=1).astype(bool))\n",
    "\n",
    "# Debug: Print the upper triangle of the correlation matrix\n",
    "print(\"\\nUpper Triangle of Correlation Matrix:\")\n",
    "upper_triangle\n",
    "\n"
   ]
  },
  {
   "cell_type": "code",
   "execution_count": 38,
   "metadata": {},
   "outputs": [
    {
     "name": "stdout",
     "output_type": "stream",
     "text": [
      "\n",
      "Collinear features to be removed: ['Dwellings with no internet']\n",
      "\n",
      "Remaining features after removing collinear features:\n",
      "Index(['% dwellings which are public housing', 'Distance to GPO (km)',\n",
      "       'Public Housing Dwellings', 'Equivalent household income <$600/week',\n",
      "       'Poor English proficiency, persons',\n",
      "       'Aboriginal or Torres Strait Islander, persons',\n",
      "       'Holds degree or higher, persons', 'Population Density'],\n",
      "      dtype='object')\n"
     ]
    }
   ],
   "source": [
    "# Find features with correlation greater than 0.9 and remove them\n",
    "collinear_features = [column for column in upper_triangle.columns if any(upper_triangle[column] > 0.9)]\n",
    "print(f\"\\nCollinear features to be removed: {collinear_features}\")\n",
    "\n",
    "# Drop collinear features\n",
    "X = X.drop(columns=collinear_features)\n",
    "\n",
    "# Debug: Check the remaining features\n",
    "print(\"\\nRemaining features after removing collinear features:\")\n",
    "print(X.columns)"
   ]
  },
  {
   "cell_type": "markdown",
   "metadata": {},
   "source": [
    "Base on the output:\n",
    "\n",
    "*Dwellings with no internet* were removed because it had a high collinearity (correlation greater than 0.9) with other features, meaning it provided duplicate information with one or more other features. If it continues to be retained, it may result in multicollinearity in the model, which affects the stability and accuracy of the model."
   ]
  },
  {
   "cell_type": "markdown",
   "metadata": {},
   "source": [
    "### **(3) Standardizing**"
   ]
  },
  {
   "cell_type": "code",
   "execution_count": 39,
   "metadata": {},
   "outputs": [],
   "source": [
    "# Standardize the data\n",
    "scaler = StandardScaler()\n",
    "X_scaled = scaler.fit_transform(X)\n"
   ]
  },
  {
   "cell_type": "code",
   "execution_count": 40,
   "metadata": {},
   "outputs": [
    {
     "name": "stdout",
     "output_type": "stream",
     "text": [
      "\n",
      "Training set mean after scaling: [ 1.97372982e-17  9.21073917e-17  2.30268479e-17 -6.00342821e-17\n",
      " -1.64477485e-18 -3.28954970e-18  1.97372982e-17 -1.18423789e-16]\n",
      "Training set standard deviation after scaling: [1. 1. 1. 1. 1. 1. 1. 1.]\n"
     ]
    }
   ],
   "source": [
    "# Debug: Check the mean and standard deviation after scaling\n",
    "print(\"\\nTraining set mean after scaling:\", X_scaled.mean(axis=0))\n",
    "print(\"Training set standard deviation after scaling:\", X_scaled.std(axis=0))\n"
   ]
  },
  {
   "cell_type": "markdown",
   "metadata": {},
   "source": [
    "Check the feature mean and standard deviation of the training and test sets to ensure that they are normalized (mean 0, standard deviation 1)."
   ]
  },
  {
   "cell_type": "markdown",
   "metadata": {},
   "source": [
    "### **(4) Data Partitioning (70/30)**\n"
   ]
  },
  {
   "cell_type": "code",
   "execution_count": 41,
   "metadata": {},
   "outputs": [
    {
     "name": "stdout",
     "output_type": "stream",
     "text": [
      "Training set shape: (604, 8)\n",
      "Validation set shape: (152, 8)\n",
      "Test set shape: (324, 8)\n"
     ]
    }
   ],
   "source": [
    "# Split the dataset into training (70%) and testing (30%) sets\n",
    "X_train, X_test, y_train, y_test = train_test_split(X, y, test_size=0.3, random_state=42)\n",
    "\n",
    "# Further split the training set into training (80%) and validation (20%) sets\n",
    "X_train, X_val, y_train, y_val = train_test_split(X_train, y_train, test_size=0.2, random_state=42)\n",
    "\n",
    "# Debug: Check the sizes of each dataset\n",
    "print(\"Training set shape:\", X_train.shape)\n",
    "print(\"Validation set shape:\", X_val.shape)\n",
    "print(\"Test set shape:\", X_test.shape)"
   ]
  },
  {
   "cell_type": "code",
   "execution_count": 42,
   "metadata": {},
   "outputs": [
    {
     "name": "stdout",
     "output_type": "stream",
     "text": [
      "There are missing values in the training set. Handling missing values now.\n"
     ]
    }
   ],
   "source": [
    "# Check for missing values in the training and testing sets\n",
    "if X_train.isnull().sum().any() or y_train.isnull().sum().any():\n",
    "    print(\"There are missing values in the training set. Handling missing values now.\")\n",
    "    X_train.fillna(X_train.median(), inplace=True)\n",
    "    y_train.fillna(y_train.median(), inplace=True)\n",
    "\n",
    "if X_test.isnull().sum().any() or y_test.isnull().sum().any():\n",
    "    print(\"There are missing values in the testing set. Handling missing values now.\")\n",
    "    X_test.fillna(X_test.median(), inplace=True)\n",
    "    y_test.fillna(y_test.median(), inplace=True)"
   ]
  },
  {
   "cell_type": "code",
   "execution_count": 43,
   "metadata": {},
   "outputs": [
    {
     "name": "stdout",
     "output_type": "stream",
     "text": [
      "Number of missing values in X_train: 0\n",
      "Number of missing values in y_train: 0\n"
     ]
    }
   ],
   "source": [
    "print(\"Number of missing values in X_train:\", X_train.isnull().sum().sum())\n",
    "print(\"Number of missing values in y_train:\", y_train.isnull().sum().sum())"
   ]
  },
  {
   "cell_type": "markdown",
   "metadata": {},
   "source": [
    "## **3 Model Selection**"
   ]
  },
  {
   "cell_type": "markdown",
   "metadata": {},
   "source": [
    "### **(1) Linear Regression**"
   ]
  },
  {
   "cell_type": "code",
   "execution_count": 44,
   "metadata": {},
   "outputs": [
    {
     "data": {
      "text/html": [
       "<style>#sk-container-id-2 {color: black;}#sk-container-id-2 pre{padding: 0;}#sk-container-id-2 div.sk-toggleable {background-color: white;}#sk-container-id-2 label.sk-toggleable__label {cursor: pointer;display: block;width: 100%;margin-bottom: 0;padding: 0.3em;box-sizing: border-box;text-align: center;}#sk-container-id-2 label.sk-toggleable__label-arrow:before {content: \"▸\";float: left;margin-right: 0.25em;color: #696969;}#sk-container-id-2 label.sk-toggleable__label-arrow:hover:before {color: black;}#sk-container-id-2 div.sk-estimator:hover label.sk-toggleable__label-arrow:before {color: black;}#sk-container-id-2 div.sk-toggleable__content {max-height: 0;max-width: 0;overflow: hidden;text-align: left;background-color: #f0f8ff;}#sk-container-id-2 div.sk-toggleable__content pre {margin: 0.2em;color: black;border-radius: 0.25em;background-color: #f0f8ff;}#sk-container-id-2 input.sk-toggleable__control:checked~div.sk-toggleable__content {max-height: 200px;max-width: 100%;overflow: auto;}#sk-container-id-2 input.sk-toggleable__control:checked~label.sk-toggleable__label-arrow:before {content: \"▾\";}#sk-container-id-2 div.sk-estimator input.sk-toggleable__control:checked~label.sk-toggleable__label {background-color: #d4ebff;}#sk-container-id-2 div.sk-label input.sk-toggleable__control:checked~label.sk-toggleable__label {background-color: #d4ebff;}#sk-container-id-2 input.sk-hidden--visually {border: 0;clip: rect(1px 1px 1px 1px);clip: rect(1px, 1px, 1px, 1px);height: 1px;margin: -1px;overflow: hidden;padding: 0;position: absolute;width: 1px;}#sk-container-id-2 div.sk-estimator {font-family: monospace;background-color: #f0f8ff;border: 1px dotted black;border-radius: 0.25em;box-sizing: border-box;margin-bottom: 0.5em;}#sk-container-id-2 div.sk-estimator:hover {background-color: #d4ebff;}#sk-container-id-2 div.sk-parallel-item::after {content: \"\";width: 100%;border-bottom: 1px solid gray;flex-grow: 1;}#sk-container-id-2 div.sk-label:hover label.sk-toggleable__label {background-color: #d4ebff;}#sk-container-id-2 div.sk-serial::before {content: \"\";position: absolute;border-left: 1px solid gray;box-sizing: border-box;top: 0;bottom: 0;left: 50%;z-index: 0;}#sk-container-id-2 div.sk-serial {display: flex;flex-direction: column;align-items: center;background-color: white;padding-right: 0.2em;padding-left: 0.2em;position: relative;}#sk-container-id-2 div.sk-item {position: relative;z-index: 1;}#sk-container-id-2 div.sk-parallel {display: flex;align-items: stretch;justify-content: center;background-color: white;position: relative;}#sk-container-id-2 div.sk-item::before, #sk-container-id-2 div.sk-parallel-item::before {content: \"\";position: absolute;border-left: 1px solid gray;box-sizing: border-box;top: 0;bottom: 0;left: 50%;z-index: -1;}#sk-container-id-2 div.sk-parallel-item {display: flex;flex-direction: column;z-index: 1;position: relative;background-color: white;}#sk-container-id-2 div.sk-parallel-item:first-child::after {align-self: flex-end;width: 50%;}#sk-container-id-2 div.sk-parallel-item:last-child::after {align-self: flex-start;width: 50%;}#sk-container-id-2 div.sk-parallel-item:only-child::after {width: 0;}#sk-container-id-2 div.sk-dashed-wrapped {border: 1px dashed gray;margin: 0 0.4em 0.5em 0.4em;box-sizing: border-box;padding-bottom: 0.4em;background-color: white;}#sk-container-id-2 div.sk-label label {font-family: monospace;font-weight: bold;display: inline-block;line-height: 1.2em;}#sk-container-id-2 div.sk-label-container {text-align: center;}#sk-container-id-2 div.sk-container {/* jupyter's `normalize.less` sets `[hidden] { display: none; }` but bootstrap.min.css set `[hidden] { display: none !important; }` so we also need the `!important` here to be able to override the default hidden behavior on the sphinx rendered scikit-learn.org. See: https://github.com/scikit-learn/scikit-learn/issues/21755 */display: inline-block !important;position: relative;}#sk-container-id-2 div.sk-text-repr-fallback {display: none;}</style><div id=\"sk-container-id-2\" class=\"sk-top-container\"><div class=\"sk-text-repr-fallback\"><pre>LinearRegression()</pre><b>In a Jupyter environment, please rerun this cell to show the HTML representation or trust the notebook. <br />On GitHub, the HTML representation is unable to render, please try loading this page with nbviewer.org.</b></div><div class=\"sk-container\" hidden><div class=\"sk-item\"><div class=\"sk-estimator sk-toggleable\"><input class=\"sk-toggleable__control sk-hidden--visually\" id=\"sk-estimator-id-2\" type=\"checkbox\" checked><label for=\"sk-estimator-id-2\" class=\"sk-toggleable__label sk-toggleable__label-arrow\">LinearRegression</label><div class=\"sk-toggleable__content\"><pre>LinearRegression()</pre></div></div></div></div></div>"
      ],
      "text/plain": [
       "LinearRegression()"
      ]
     },
     "execution_count": 44,
     "metadata": {},
     "output_type": "execute_result"
    }
   ],
   "source": [
    "model = LinearRegression()\n",
    "\n",
    "# Train the model with the training set\n",
    "model.fit(X_train, y_train)"
   ]
  },
  {
   "cell_type": "code",
   "execution_count": 45,
   "metadata": {},
   "outputs": [
    {
     "name": "stdout",
     "output_type": "stream",
     "text": [
      "\n",
      "Model coefficients: [[-4.63708230e+00 -2.25143119e-01  2.56991234e-02 -3.40621470e-02\n",
      "  -3.42191251e-02  7.85105129e-02  2.26538595e-02 -2.93843507e-03]]\n",
      "Model intercept: [1064.68608172]\n"
     ]
    }
   ],
   "source": [
    "# Print model coefficients\n",
    "print(\"\\nModel coefficients:\", model.coef_)\n",
    "print(\"Model intercept:\", model.intercept_)"
   ]
  },
  {
   "cell_type": "code",
   "execution_count": 46,
   "metadata": {},
   "outputs": [
    {
     "name": "stdout",
     "output_type": "stream",
     "text": [
      "\n",
      "Validation Set Metrics:\n",
      "Mean Squared Error (MSE): 2785.911826562375\n",
      "R² Score: 0.3960944983462573\n",
      "\n",
      "Test Set Metrics:\n",
      "Mean Squared Error (MSE): 2992.5656258006697\n",
      "R² Score: 0.4426969846249328\n"
     ]
    }
   ],
   "source": [
    "# Predict on the validation set\n",
    "y_val_pred = model.predict(X_val)\n",
    "\n",
    "# Calculate MSE and R² score\n",
    "val_mse = mean_squared_error(y_val, y_val_pred)\n",
    "val_r2 = r2_score(y_val, y_val_pred)\n",
    "\n",
    "# Print validation metrics\n",
    "print(\"\\nValidation Set Metrics:\")\n",
    "print(f\"Mean Squared Error (MSE): {val_mse}\")\n",
    "print(f\"R² Score: {val_r2}\")\n",
    "\n",
    "# Predict on the test set\n",
    "y_test_pred = model.predict(X_test)\n",
    "\n",
    "# Calculate MSE and R² score for the test set\n",
    "test_mse = mean_squared_error(y_test, y_test_pred)\n",
    "test_r2 = r2_score(y_test, y_test_pred)\n",
    "\n",
    "# Print test set metrics\n",
    "print(\"\\nTest Set Metrics:\")\n",
    "print(f\"Mean Squared Error (MSE): {test_mse}\")\n",
    "print(f\"R² Score: {test_r2}\")"
   ]
  },
  {
   "cell_type": "markdown",
   "metadata": {},
   "source": [
    "From the output:\n",
    "\n",
    "1. The Mean Squared Error (MSE) value on the validation set is high, and the R² Score also indicates that the explanatory power of the model is not strong, only 0.396, which means that the model can only explain about 39.6% of the data variation.\n",
    "\n",
    "2. The Mean Squared Error (MSE) on the test set was 2992.57 and the R² Score was 0.4427, indicating that the model performed slightly better on the test set than on the validation set, but still not very good overall."
   ]
  },
  {
   "cell_type": "markdown",
   "metadata": {},
   "source": [
    "### **(2) Ridge Regression**"
   ]
  },
  {
   "cell_type": "code",
   "execution_count": 47,
   "metadata": {},
   "outputs": [
    {
     "name": "stdout",
     "output_type": "stream",
     "text": [
      "\n",
      "Ridge Regression Validation Set Metrics:\n",
      "Mean Squared Error (MSE): 2785.901710378598\n",
      "R² Score: 0.3960966912437426\n"
     ]
    }
   ],
   "source": [
    "from sklearn.linear_model import Ridge\n",
    "from sklearn.metrics import mean_squared_error, r2_score\n",
    "\n",
    "# Initialize Ridge regression with alpha value (regularization strength)\n",
    "ridge_model = Ridge(alpha=1.0)\n",
    "\n",
    "# Train the Ridge model\n",
    "ridge_model.fit(X_train, y_train)\n",
    "\n",
    "# Predict on validation set\n",
    "y_val_pred = ridge_model.predict(X_val)\n",
    "\n",
    "# Calculate MSE and R² score for validation set\n",
    "val_mse = mean_squared_error(y_val, y_val_pred)\n",
    "val_r2 = r2_score(y_val, y_val_pred)\n",
    "\n",
    "# Print validation metrics\n",
    "print(\"\\nRidge Regression Validation Set Metrics:\")\n",
    "print(f\"Mean Squared Error (MSE): {val_mse}\")\n",
    "print(f\"R² Score: {val_r2}\")"
   ]
  },
  {
   "cell_type": "markdown",
   "metadata": {},
   "source": [
    "### **(3) Lasso Regression**"
   ]
  },
  {
   "cell_type": "code",
   "execution_count": 48,
   "metadata": {},
   "outputs": [
    {
     "name": "stdout",
     "output_type": "stream",
     "text": [
      "Fitting 5 folds for each of 6 candidates, totalling 30 fits\n",
      "[CV] END ........................................alpha=0.001; total time=   0.0s\n",
      "[CV] END ........................................alpha=0.001; total time=   0.0s\n",
      "[CV] END ........................................alpha=0.001; total time=   0.0s\n",
      "[CV] END ........................................alpha=0.001; total time=   0.0s\n",
      "[CV] END ........................................alpha=0.001; total time=   0.0s\n",
      "[CV] END .........................................alpha=0.01; total time=   0.0s\n",
      "[CV] END .........................................alpha=0.01; total time=   0.0s\n",
      "[CV] END .........................................alpha=0.01; total time=   0.0s\n",
      "[CV] END .........................................alpha=0.01; total time=   0.0s\n",
      "[CV] END .........................................alpha=0.01; total time=   0.0s\n",
      "[CV] END ..........................................alpha=0.1; total time=   0.0s\n",
      "[CV] END ..........................................alpha=0.1; total time=   0.0s\n",
      "[CV] END ..........................................alpha=0.1; total time=   0.0s\n",
      "[CV] END ..........................................alpha=0.1; total time=   0.0s\n",
      "[CV] END ..........................................alpha=0.1; total time=   0.0s\n",
      "[CV] END ............................................alpha=1; total time=   0.0s\n",
      "[CV] END ............................................alpha=1; total time=   0.0s\n",
      "[CV] END ............................................alpha=1; total time=   0.0s\n",
      "[CV] END ............................................alpha=1; total time=   0.0s\n",
      "[CV] END ............................................alpha=1; total time=   0.0s\n",
      "[CV] END ...........................................alpha=10; total time=   0.0s\n",
      "[CV] END ...........................................alpha=10; total time=   0.0s\n",
      "[CV] END ...........................................alpha=10; total time=   0.0s\n",
      "[CV] END ...........................................alpha=10; total time=   0.0s\n",
      "[CV] END ...........................................alpha=10; total time=   0.0s\n",
      "[CV] END ..........................................alpha=100; total time=   0.0s\n",
      "[CV] END ..........................................alpha=100; total time=   0.0s\n",
      "[CV] END ..........................................alpha=100; total time=   0.0s\n",
      "[CV] END ..........................................alpha=100; total time=   0.0s\n",
      "[CV] END ..........................................alpha=100; total time=   0.0s\n",
      "\n",
      "Lasso Regression Validation Set Metrics:\n",
      "Mean Squared Error (MSE): 2773.708288286569\n",
      "R² Score: 0.3987398742099635\n",
      "\n",
      "Lasso Regression Test Set Metrics:\n",
      "Mean Squared Error (MSE): 3005.5602012445497\n",
      "R² Score: 0.44027701561374166\n"
     ]
    }
   ],
   "source": [
    "from sklearn.linear_model import Lasso\n",
    "from sklearn.model_selection import GridSearchCV, cross_val_score\n",
    "from sklearn.metrics import mean_squared_error, r2_score\n",
    "\n",
    "# Define the Lasso model\n",
    "lasso_model = Lasso()\n",
    "\n",
    "# Define a parameter grid to tune the alpha parameter\n",
    "param_grid = {'alpha': [0.001, 0.01, 0.1, 1, 10, 100]}\n",
    "\n",
    "# Use GridSearchCV to find the best alpha\n",
    "grid_search = GridSearchCV(estimator=lasso_model, param_grid=param_grid, scoring='r2', cv=5, n_jobs=1, verbose=2)\n",
    "grid_search.fit(X_train, y_train)\n",
    "\n",
    "# Get the best model\n",
    "best_lasso = grid_search.best_estimator_\n",
    "\n",
    "# Predict on validation and test sets\n",
    "y_val_pred = best_lasso.predict(X_val)\n",
    "y_test_pred = best_lasso.predict(X_test)\n",
    "\n",
    "# Calculate and print metrics for validation set\n",
    "val_mse = mean_squared_error(y_val, y_val_pred)\n",
    "val_r2 = r2_score(y_val, y_val_pred)\n",
    "print(\"\\nLasso Regression Validation Set Metrics:\")\n",
    "print(f\"Mean Squared Error (MSE): {val_mse}\")\n",
    "print(f\"R² Score: {val_r2}\")\n",
    "\n",
    "# Calculate and print metrics for test set\n",
    "test_mse = mean_squared_error(y_test, y_test_pred)\n",
    "test_r2 = r2_score(y_test, y_test_pred)\n",
    "print(\"\\nLasso Regression Test Set Metrics:\")\n",
    "print(f\"Mean Squared Error (MSE): {test_mse}\")\n",
    "print(f\"R² Score: {test_r2}\")"
   ]
  },
  {
   "cell_type": "markdown",
   "metadata": {},
   "source": [
    "### **(4) Gradient Boosting Regresssion**\n"
   ]
  },
  {
   "cell_type": "code",
   "execution_count": 49,
   "metadata": {},
   "outputs": [
    {
     "name": "stdout",
     "output_type": "stream",
     "text": [
      "\n",
      "Gradient Boosting Regressor Validation Set Metrics:\n",
      "Mean Squared Error (MSE): 1327.9228541016728\n",
      "R² Score: 0.7121445446630379\n"
     ]
    },
    {
     "name": "stderr",
     "output_type": "stream",
     "text": [
      "/Users/yueyangwu/opt/anaconda3/envs/Desktop/lib/python3.11/site-packages/sklearn/ensemble/_gb.py:424: DataConversionWarning: A column-vector y was passed when a 1d array was expected. Please change the shape of y to (n_samples, ), for example using ravel().\n",
      "  y = column_or_1d(y, warn=True)\n"
     ]
    }
   ],
   "source": [
    "from sklearn.ensemble import GradientBoostingRegressor\n",
    "\n",
    "# Initialize Gradient Boosting Regressor\n",
    "gbr_model = GradientBoostingRegressor(n_estimators=100, learning_rate=0.1, max_depth=3, random_state=42)\n",
    "\n",
    "# Train the model with the training set\n",
    "gbr_model.fit(X_train, y_train)\n",
    "\n",
    "# Predict on validation set\n",
    "y_val_pred = gbr_model.predict(X_val)\n",
    "\n",
    "# Calculate and print MSE and R² score\n",
    "val_mse = mean_squared_error(y_val, y_val_pred)\n",
    "val_r2 = r2_score(y_val, y_val_pred)\n",
    "print(\"\\nGradient Boosting Regressor Validation Set Metrics:\")\n",
    "print(f\"Mean Squared Error (MSE): {val_mse}\")\n",
    "print(f\"R² Score: {val_r2}\")"
   ]
  },
  {
   "cell_type": "markdown",
   "metadata": {},
   "source": [
    "### **(5) Random Forest**"
   ]
  },
  {
   "cell_type": "code",
   "execution_count": 50,
   "metadata": {},
   "outputs": [
    {
     "name": "stdout",
     "output_type": "stream",
     "text": [
      "\n",
      "Random Forest Regressor Model:\n"
     ]
    },
    {
     "data": {
      "image/png": "[encoded data removed]",
      "text/plain": [
       "<Figure size 1000x600 with 1 Axes>"
      ]
     },
     "metadata": {},
     "output_type": "display_data"
    }
   ],
   "source": [
    "import re\n",
    "import pandas as pd\n",
    "import xgboost as xgb\n",
    "from sklearn.ensemble import RandomForestRegressor\n",
    "from sklearn.linear_model import LinearRegression\n",
    "from sklearn.metrics import mean_squared_error, r2_score\n",
    "import matplotlib.pyplot as plt\n",
    "\n",
    "print(\"\\nRandom Forest Regressor Model:\")\n",
    "\n",
    "rf_model = RandomForestRegressor(n_estimators=100, random_state=42)\n",
    "rf_model.fit(X_train, y_train.values.ravel())\n",
    "\n",
    "feature_importances = rf_model.feature_importances_\n",
    "\n",
    "importance_df = pd.DataFrame({'Feature': X_train.columns, 'Importance': feature_importances})\n",
    "importance_df = importance_df.sort_values(by='Importance', ascending=False)\n",
    "\n",
    "plt.figure(figsize=(10, 6))\n",
    "plt.barh(importance_df['Feature'], importance_df['Importance'])\n",
    "plt.xlabel('Feature Importance')\n",
    "plt.ylabel('Features')\n",
    "plt.title('Feature Importances from Random Forest')\n",
    "plt.gca().invert_yaxis()  \n",
    "plt.show()\n",
    "\n"
   ]
  },
  {
   "cell_type": "markdown",
   "metadata": {},
   "source": [
    "The ranking of these features shows their influence on model predictions, with % dwellings which are public housing and Holds degree or higher, persons being the two most important features. This suggests that the proportion of public housing and the number of highly educated people have a large impact on IRSD."
   ]
  },
  {
   "cell_type": "markdown",
   "metadata": {},
   "source": [
    "### **(6) XGBoost Model**"
   ]
  },
  {
   "cell_type": "code",
   "execution_count": 51,
   "metadata": {},
   "outputs": [
    {
     "name": "stdout",
     "output_type": "stream",
     "text": [
      "\n",
      "XGBoost Model:\n",
      "\n",
      "XGBoost Validation Set Metrics:\n",
      "Mean Squared Error (MSE): 1269.1059004312162\n",
      "R² Score: 0.7248943673865844\n"
     ]
    }
   ],
   "source": [
    "\n",
    "print(\"\\nXGBoost Model:\")\n",
    "\n",
    "X_train.columns = [re.sub(r'[<>\\[\\]]', '', col) for col in X_train.columns]\n",
    "X_val.columns = [re.sub(r'[<>\\[\\]]', '', col) for col in X_val.columns]\n",
    "X_test.columns = [re.sub(r'[<>\\[\\]]', '', col) for col in X_test.columns]\n",
    "\n",
    "xgb_model = xgb.XGBRegressor(n_estimators=100, learning_rate=0.1, max_depth=3, random_state=42)\n",
    "xgb_model.fit(X_train, y_train.values.ravel())\n",
    "\n",
    "y_val_pred = xgb_model.predict(X_val)\n",
    "val_mse = mean_squared_error(y_val, y_val_pred)\n",
    "val_r2 = r2_score(y_val, y_val_pred)\n",
    "print(\"\\nXGBoost Validation Set Metrics:\")\n",
    "print(f\"Mean Squared Error (MSE): {val_mse}\")\n",
    "print(f\"R² Score: {val_r2}\")\n",
    "\n"
   ]
  },
  {
   "cell_type": "code",
   "execution_count": 52,
   "metadata": {},
   "outputs": [
    {
     "name": "stdout",
     "output_type": "stream",
     "text": [
      "\n",
      "Ensemble Model Validation Set Metrics:\n",
      "Mean Squared Error (MSE): 1355.3701869740514\n",
      "R² Score: 0.7061947528680103\n"
     ]
    }
   ],
   "source": [
    "import numpy as np\n",
    "from sklearn.ensemble import RandomForestRegressor\n",
    "from xgboost import XGBRegressor\n",
    "from sklearn.metrics import mean_squared_error, r2_score\n",
    "\n",
    "# Initialize Random Forest and XGBoost models\n",
    "rf_model = RandomForestRegressor(n_estimators=100, random_state=42)\n",
    "xgb_model = XGBRegressor(n_estimators=100, learning_rate=0.1, max_depth=3, random_state=42)\n",
    "\n",
    "# Convert y_train to NumPy array and use ravel() to flatten it\n",
    "y_train_np = y_train.values.ravel()\n",
    "\n",
    "# Train both models on the training set\n",
    "rf_model.fit(X_train, y_train_np)\n",
    "xgb_model.fit(X_train, y_train_np)\n",
    "\n",
    "# Predict on validation set using both models\n",
    "y_val_pred_rf = rf_model.predict(X_val)\n",
    "y_val_pred_xgb = xgb_model.predict(X_val)\n",
    "\n",
    "# Weighted ensemble of Random Forest and XGBoost\n",
    "# Assign 50% weight to each model (can be adjusted)\n",
    "y_val_pred_ensemble = 0.5 * y_val_pred_rf + 0.5 * y_val_pred_xgb\n",
    "\n",
    "# Calculate MSE and R² score for ensemble model\n",
    "ensemble_mse = mean_squared_error(y_val, y_val_pred_ensemble)\n",
    "ensemble_r2 = r2_score(y_val, y_val_pred_ensemble)\n",
    "\n",
    "print(\"\\nEnsemble Model Validation Set Metrics:\")\n",
    "print(f\"Mean Squared Error (MSE): {ensemble_mse}\")\n",
    "print(f\"R² Score: {ensemble_r2}\")"
   ]
  },
  {
   "cell_type": "code",
   "execution_count": 53,
   "metadata": {},
   "outputs": [
    {
     "name": "stdout",
     "output_type": "stream",
     "text": [
      "\n",
      "Adjusted Ensemble Model Validation Set Metrics:\n",
      "Mean Squared Error (MSE): 1329.60941856795\n",
      "R² Score: 0.7117789460283763\n"
     ]
    }
   ],
   "source": [
    "# Adjusted Weighted ensemble of Random Forest and XGBoost\n",
    "# Assigning different weights to each model\n",
    "weight_rf = 0.4  # Adjust weight as needed\n",
    "weight_xgb = 0.6  # Adjust weight as needed\n",
    "\n",
    "y_val_pred_ensemble_adjusted = weight_rf * y_val_pred_rf + weight_xgb * y_val_pred_xgb\n",
    "\n",
    "# Calculate MSE and R² score for adjusted ensemble model\n",
    "ensemble_mse_adjusted = mean_squared_error(y_val, y_val_pred_ensemble_adjusted)\n",
    "ensemble_r2_adjusted = r2_score(y_val, y_val_pred_ensemble_adjusted)\n",
    "\n",
    "print(\"\\nAdjusted Ensemble Model Validation Set Metrics:\")\n",
    "print(f\"Mean Squared Error (MSE): {ensemble_mse_adjusted}\")\n",
    "print(f\"R² Score: {ensemble_r2_adjusted}\")"
   ]
  },
  {
   "cell_type": "markdown",
   "metadata": {},
   "source": [
    "## Model Performance Comparison\n",
    "\n",
    "| Model                           | Dataset        | Mean Squared Error (MSE) | R² Score | Analysis                                                                                                         |\n",
    "|---------------------------------|----------------|--------------------------|----------|------------------------------------------------------------------------------------------------------------------|\n",
    "| **Linear Regression**           | Validation Set | 2785.91                  | 0.396    | R² is low, suggesting the model explains only ~39% to 44% of the variance. Linear relationships are insufficient. |\n",
    "|                                 | Test Set       | 2992.57                  | 0.443    |                                                                                                                  |\n",
    "| **Ridge Regression**            | Validation Set | 2785.90                  | 0.396    | Performance is almost identical to Linear Regression, indicating regularization did not provide significant improvement. |\n",
    "| **Lasso Regression**            | Test Set       | 3005.56                  | 0.440    | Feature selection did not improve performance over Linear and Ridge Regression. Consider further hyperparameter tuning or retaining more features. |\n",
    "| **Gradient Boosting Regressor** | Validation Set | 1327.92                  | 0.712    | Significant improvement with R² of 0.71, indicating better ability to capture complex relationships.            |\n",
    "| **XGBoost**                     | Validation Set | 1269.11                  | 0.725    | Slightly better performance than Gradient Boosting, indicating strength in handling complex and nonlinear data.  |\n",
    "| **Ensemble Model**              | Validation Set | 1355.37 (50% weight)     | 0.706    | Combines Random Forest and XGBoost, but performance did not exceed XGBoost alone.                               |\n",
    "|                                 | Validation Set | 1329.61 (Adjusted weight)| 0.712    | Adjusted weights slightly improved the performance, but gains were limited.                                      |"
   ]
  },
  {
   "cell_type": "markdown",
   "metadata": {},
   "source": [
    "## **4 Hyperparameter tuning**"
   ]
  },
  {
   "cell_type": "markdown",
   "metadata": {},
   "source": [
    "### **(1) RandomizedSearchCV**\n",
    "\n",
    "We used RandomizedSearchCV to optimize the hyperparameters of the XGBoost model, in order to find a more suitable combination of hyperparameters for the data, so as to improve the performance of the model.\n",
    "\n",
    "* n_estimators: Control the number of trees in the model, the more trees, the more complex the model; But too many trees can lead to overfitting.\n",
    "* learning_rate: Determines the contribution size of each tree, a smaller learning rate requires more trees to fit the data, a larger learning rate may converge faster, but it is easy to overfit.\n",
    "* max_depth: The depth of each tree is controlled. A larger depth will increase the complexity of the model, but may overfit; Smaller depths may underfit."
   ]
  },
  {
   "cell_type": "code",
   "execution_count": 58,
   "metadata": {},
   "outputs": [],
   "source": [
    "from sklearn.model_selection import RandomizedSearchCV\n",
    "\n",
    "param_grid = {\n",
    "    'n_estimators': [100, 200, 300],\n",
    "    'learning_rate': [0.01, 0.1, 0.2],\n",
    "    'max_depth': [3, 5, 7]\n",
    "}\n",
    "\n",
    "random_search = RandomizedSearchCV(xgb_model, param_distributions=param_grid, n_iter=10, scoring='r2', cv=5, random_state=42, n_jobs=1)\n",
    "random_search.fit(X_train, y_train_np)\n",
    "best_xgb_model = random_search.best_estimator_"
   ]
  },
  {
   "cell_type": "markdown",
   "metadata": {},
   "source": [
    "### **(2) StackingRegressor**\n",
    "\n",
    "We use StackingRegressor for stack integration, with the aim of leveraging predictions from multiple models and combining the strengths of different models to improve overall predictive performance.\n",
    "\n",
    "The structure of the stacked model:\n",
    "* Base Learners: RandomForestRegressor and XGBRegressor.\n",
    "* Final Estimator: Use a linear regression model as the final predictor."
   ]
  },
  {
   "cell_type": "code",
   "execution_count": 59,
   "metadata": {},
   "outputs": [
    {
     "data": {
      "text/html": [
       "<style>#sk-container-id-4 {color: black;}#sk-container-id-4 pre{padding: 0;}#sk-container-id-4 div.sk-toggleable {background-color: white;}#sk-container-id-4 label.sk-toggleable__label {cursor: pointer;display: block;width: 100%;margin-bottom: 0;padding: 0.3em;box-sizing: border-box;text-align: center;}#sk-container-id-4 label.sk-toggleable__label-arrow:before {content: \"▸\";float: left;margin-right: 0.25em;color: #696969;}#sk-container-id-4 label.sk-toggleable__label-arrow:hover:before {color: black;}#sk-container-id-4 div.sk-estimator:hover label.sk-toggleable__label-arrow:before {color: black;}#sk-container-id-4 div.sk-toggleable__content {max-height: 0;max-width: 0;overflow: hidden;text-align: left;background-color: #f0f8ff;}#sk-container-id-4 div.sk-toggleable__content pre {margin: 0.2em;color: black;border-radius: 0.25em;background-color: #f0f8ff;}#sk-container-id-4 input.sk-toggleable__control:checked~div.sk-toggleable__content {max-height: 200px;max-width: 100%;overflow: auto;}#sk-container-id-4 input.sk-toggleable__control:checked~label.sk-toggleable__label-arrow:before {content: \"▾\";}#sk-container-id-4 div.sk-estimator input.sk-toggleable__control:checked~label.sk-toggleable__label {background-color: #d4ebff;}#sk-container-id-4 div.sk-label input.sk-toggleable__control:checked~label.sk-toggleable__label {background-color: #d4ebff;}#sk-container-id-4 input.sk-hidden--visually {border: 0;clip: rect(1px 1px 1px 1px);clip: rect(1px, 1px, 1px, 1px);height: 1px;margin: -1px;overflow: hidden;padding: 0;position: absolute;width: 1px;}#sk-container-id-4 div.sk-estimator {font-family: monospace;background-color: #f0f8ff;border: 1px dotted black;border-radius: 0.25em;box-sizing: border-box;margin-bottom: 0.5em;}#sk-container-id-4 div.sk-estimator:hover {background-color: #d4ebff;}#sk-container-id-4 div.sk-parallel-item::after {content: \"\";width: 100%;border-bottom: 1px solid gray;flex-grow: 1;}#sk-container-id-4 div.sk-label:hover label.sk-toggleable__label {background-color: #d4ebff;}#sk-container-id-4 div.sk-serial::before {content: \"\";position: absolute;border-left: 1px solid gray;box-sizing: border-box;top: 0;bottom: 0;left: 50%;z-index: 0;}#sk-container-id-4 div.sk-serial {display: flex;flex-direction: column;align-items: center;background-color: white;padding-right: 0.2em;padding-left: 0.2em;position: relative;}#sk-container-id-4 div.sk-item {position: relative;z-index: 1;}#sk-container-id-4 div.sk-parallel {display: flex;align-items: stretch;justify-content: center;background-color: white;position: relative;}#sk-container-id-4 div.sk-item::before, #sk-container-id-4 div.sk-parallel-item::before {content: \"\";position: absolute;border-left: 1px solid gray;box-sizing: border-box;top: 0;bottom: 0;left: 50%;z-index: -1;}#sk-container-id-4 div.sk-parallel-item {display: flex;flex-direction: column;z-index: 1;position: relative;background-color: white;}#sk-container-id-4 div.sk-parallel-item:first-child::after {align-self: flex-end;width: 50%;}#sk-container-id-4 div.sk-parallel-item:last-child::after {align-self: flex-start;width: 50%;}#sk-container-id-4 div.sk-parallel-item:only-child::after {width: 0;}#sk-container-id-4 div.sk-dashed-wrapped {border: 1px dashed gray;margin: 0 0.4em 0.5em 0.4em;box-sizing: border-box;padding-bottom: 0.4em;background-color: white;}#sk-container-id-4 div.sk-label label {font-family: monospace;font-weight: bold;display: inline-block;line-height: 1.2em;}#sk-container-id-4 div.sk-label-container {text-align: center;}#sk-container-id-4 div.sk-container {/* jupyter's `normalize.less` sets `[hidden] { display: none; }` but bootstrap.min.css set `[hidden] { display: none !important; }` so we also need the `!important` here to be able to override the default hidden behavior on the sphinx rendered scikit-learn.org. See: https://github.com/scikit-learn/scikit-learn/issues/21755 */display: inline-block !important;position: relative;}#sk-container-id-4 div.sk-text-repr-fallback {display: none;}</style><div id=\"sk-container-id-4\" class=\"sk-top-container\"><div class=\"sk-text-repr-fallback\"><pre>StackingRegressor(estimators=[(&#x27;rf&#x27;, RandomForestRegressor(random_state=42)),\n",
       "                              (&#x27;xgb&#x27;,\n",
       "                               XGBRegressor(base_score=None, booster=None,\n",
       "                                            callbacks=None,\n",
       "                                            colsample_bylevel=None,\n",
       "                                            colsample_bynode=None,\n",
       "                                            colsample_bytree=None, device=None,\n",
       "                                            early_stopping_rounds=None,\n",
       "                                            enable_categorical=False,\n",
       "                                            eval_metric=None,\n",
       "                                            feature_types=None, gamma=None,\n",
       "                                            grow_policy=None,\n",
       "                                            importance_type=None,\n",
       "                                            interaction_constraints=None,\n",
       "                                            learning_rate=0.1, max_bin=None,\n",
       "                                            max_cat_threshold=None,\n",
       "                                            max_cat_to_onehot=None,\n",
       "                                            max_delta_step=None, max_depth=3,\n",
       "                                            max_leaves=None,\n",
       "                                            min_child_weight=None, missing=nan,\n",
       "                                            monotone_constraints=None,\n",
       "                                            multi_strategy=None,\n",
       "                                            n_estimators=100, n_jobs=None,\n",
       "                                            num_parallel_tree=None,\n",
       "                                            random_state=42, ...))],\n",
       "                  final_estimator=LinearRegression())</pre><b>In a Jupyter environment, please rerun this cell to show the HTML representation or trust the notebook. <br />On GitHub, the HTML representation is unable to render, please try loading this page with nbviewer.org.</b></div><div class=\"sk-container\" hidden><div class=\"sk-item sk-dashed-wrapped\"><div class=\"sk-label-container\"><div class=\"sk-label sk-toggleable\"><input class=\"sk-toggleable__control sk-hidden--visually\" id=\"sk-estimator-id-7\" type=\"checkbox\" ><label for=\"sk-estimator-id-7\" class=\"sk-toggleable__label sk-toggleable__label-arrow\">StackingRegressor</label><div class=\"sk-toggleable__content\"><pre>StackingRegressor(estimators=[(&#x27;rf&#x27;, RandomForestRegressor(random_state=42)),\n",
       "                              (&#x27;xgb&#x27;,\n",
       "                               XGBRegressor(base_score=None, booster=None,\n",
       "                                            callbacks=None,\n",
       "                                            colsample_bylevel=None,\n",
       "                                            colsample_bynode=None,\n",
       "                                            colsample_bytree=None, device=None,\n",
       "                                            early_stopping_rounds=None,\n",
       "                                            enable_categorical=False,\n",
       "                                            eval_metric=None,\n",
       "                                            feature_types=None, gamma=None,\n",
       "                                            grow_policy=None,\n",
       "                                            importance_type=None,\n",
       "                                            interaction_constraints=None,\n",
       "                                            learning_rate=0.1, max_bin=None,\n",
       "                                            max_cat_threshold=None,\n",
       "                                            max_cat_to_onehot=None,\n",
       "                                            max_delta_step=None, max_depth=3,\n",
       "                                            max_leaves=None,\n",
       "                                            min_child_weight=None, missing=nan,\n",
       "                                            monotone_constraints=None,\n",
       "                                            multi_strategy=None,\n",
       "                                            n_estimators=100, n_jobs=None,\n",
       "                                            num_parallel_tree=None,\n",
       "                                            random_state=42, ...))],\n",
       "                  final_estimator=LinearRegression())</pre></div></div></div><div class=\"sk-serial\"><div class=\"sk-item\"><div class=\"sk-parallel\"><div class=\"sk-parallel-item\"><div class=\"sk-item\"><div class=\"sk-label-container\"><div class=\"sk-label sk-toggleable\"><label>rf</label></div></div><div class=\"sk-serial\"><div class=\"sk-item\"><div class=\"sk-estimator sk-toggleable\"><input class=\"sk-toggleable__control sk-hidden--visually\" id=\"sk-estimator-id-8\" type=\"checkbox\" ><label for=\"sk-estimator-id-8\" class=\"sk-toggleable__label sk-toggleable__label-arrow\">RandomForestRegressor</label><div class=\"sk-toggleable__content\"><pre>RandomForestRegressor(random_state=42)</pre></div></div></div></div></div></div><div class=\"sk-parallel-item\"><div class=\"sk-item\"><div class=\"sk-label-container\"><div class=\"sk-label sk-toggleable\"><label>xgb</label></div></div><div class=\"sk-serial\"><div class=\"sk-item\"><div class=\"sk-estimator sk-toggleable\"><input class=\"sk-toggleable__control sk-hidden--visually\" id=\"sk-estimator-id-9\" type=\"checkbox\" ><label for=\"sk-estimator-id-9\" class=\"sk-toggleable__label sk-toggleable__label-arrow\">XGBRegressor</label><div class=\"sk-toggleable__content\"><pre>XGBRegressor(base_score=None, booster=None, callbacks=None,\n",
       "             colsample_bylevel=None, colsample_bynode=None,\n",
       "             colsample_bytree=None, device=None, early_stopping_rounds=None,\n",
       "             enable_categorical=False, eval_metric=None, feature_types=None,\n",
       "             gamma=None, grow_policy=None, importance_type=None,\n",
       "             interaction_constraints=None, learning_rate=0.1, max_bin=None,\n",
       "             max_cat_threshold=None, max_cat_to_onehot=None,\n",
       "             max_delta_step=None, max_depth=3, max_leaves=None,\n",
       "             min_child_weight=None, missing=nan, monotone_constraints=None,\n",
       "             multi_strategy=None, n_estimators=100, n_jobs=None,\n",
       "             num_parallel_tree=None, random_state=42, ...)</pre></div></div></div></div></div></div></div></div><div class=\"sk-item\"><div class=\"sk-parallel\"><div class=\"sk-parallel-item\"><div class=\"sk-item\"><div class=\"sk-label-container\"><div class=\"sk-label sk-toggleable\"><label>final_estimator</label></div></div><div class=\"sk-serial\"><div class=\"sk-item\"><div class=\"sk-estimator sk-toggleable\"><input class=\"sk-toggleable__control sk-hidden--visually\" id=\"sk-estimator-id-10\" type=\"checkbox\" ><label for=\"sk-estimator-id-10\" class=\"sk-toggleable__label sk-toggleable__label-arrow\">LinearRegression</label><div class=\"sk-toggleable__content\"><pre>LinearRegression()</pre></div></div></div></div></div></div></div></div></div></div></div></div>"
      ],
      "text/plain": [
       "StackingRegressor(estimators=[('rf', RandomForestRegressor(random_state=42)),\n",
       "                              ('xgb',\n",
       "                               XGBRegressor(base_score=None, booster=None,\n",
       "                                            callbacks=None,\n",
       "                                            colsample_bylevel=None,\n",
       "                                            colsample_bynode=None,\n",
       "                                            colsample_bytree=None, device=None,\n",
       "                                            early_stopping_rounds=None,\n",
       "                                            enable_categorical=False,\n",
       "                                            eval_metric=None,\n",
       "                                            feature_types=None, gamma=None,\n",
       "                                            grow_policy=None,\n",
       "                                            importance_type=None,\n",
       "                                            interaction_constraints=None,\n",
       "                                            learning_rate=0.1, max_bin=None,\n",
       "                                            max_cat_threshold=None,\n",
       "                                            max_cat_to_onehot=None,\n",
       "                                            max_delta_step=None, max_depth=3,\n",
       "                                            max_leaves=None,\n",
       "                                            min_child_weight=None, missing=nan,\n",
       "                                            monotone_constraints=None,\n",
       "                                            multi_strategy=None,\n",
       "                                            n_estimators=100, n_jobs=None,\n",
       "                                            num_parallel_tree=None,\n",
       "                                            random_state=42, ...))],\n",
       "                  final_estimator=LinearRegression())"
      ]
     },
     "execution_count": 59,
     "metadata": {},
     "output_type": "execute_result"
    }
   ],
   "source": [
    "from sklearn.ensemble import StackingRegressor\n",
    "\n",
    "estimators = [\n",
    "    ('rf', RandomForestRegressor(n_estimators=100, random_state=42)),\n",
    "    ('xgb', XGBRegressor(n_estimators=100, learning_rate=0.1, max_depth=3, random_state=42))\n",
    "]\n",
    "stacking_model = StackingRegressor(estimators=estimators, final_estimator=LinearRegression())\n",
    "stacking_model.fit(X_train, y_train_np)"
   ]
  },
  {
   "cell_type": "code",
   "execution_count": 61,
   "metadata": {},
   "outputs": [],
   "source": [
    "from scipy.optimize import minimize\n",
    "\n",
    "def ensemble_weighted_loss(weights, y_true, predictions):\n",
    "    y_pred = weights[0] * predictions[0] + weights[1] * predictions[1]\n",
    "    return mean_squared_error(y_true, y_pred)\n",
    "\n",
    "initial_weights = [0.5, 0.5]\n",
    "\n",
    "result = minimize(ensemble_weighted_loss, initial_weights, args=(y_val, [y_val_pred_rf, y_val_pred_xgb]), bounds=[(0, 1), (0, 1)])\n",
    "optimal_weights = result.x"
   ]
  },
  {
   "cell_type": "code",
   "execution_count": 62,
   "metadata": {},
   "outputs": [
    {
     "data": {
      "image/png": "[encoded data removed]",
      "text/plain": [
       "<Figure size 640x480 with 1 Axes>"
      ]
     },
     "metadata": {},
     "output_type": "display_data"
    }
   ],
   "source": [
    "from sklearn.model_selection import learning_curve, validation_curve\n",
    "import matplotlib.pyplot as plt\n",
    "\n",
    "# 绘制学习曲线\n",
    "train_sizes, train_scores, val_scores = learning_curve(XGBRegressor(n_estimators=100), X_train, y_train, cv=5, scoring='r2')\n",
    "plt.plot(train_sizes, train_scores.mean(axis=1), label='Training score')\n",
    "plt.plot(train_sizes, val_scores.mean(axis=1), label='Validation score')\n",
    "plt.xlabel('Training Size')\n",
    "plt.ylabel('R² Score')\n",
    "plt.title('Learning Curve')\n",
    "plt.legend()\n",
    "plt.show()"
   ]
  },
  {
   "cell_type": "code",
   "execution_count": 63,
   "metadata": {},
   "outputs": [
    {
     "name": "stdout",
     "output_type": "stream",
     "text": [
      "10-Fold Cross Validation R² Scores: [0.81479286 0.56436866 0.80134078 0.59694831 0.63958852 0.76557525\n",
      " 0.793565   0.76968971 0.81093821 0.81390063]\n",
      "Mean R² Score: 0.73707079281777\n"
     ]
    }
   ],
   "source": [
    "from sklearn.model_selection import cross_val_score\n",
    "\n",
    "model = XGBRegressor(n_estimators=100, learning_rate=0.1, max_depth=3, random_state=42)\n",
    "scores = cross_val_score(model, X_train, y_train, cv=10, scoring='r2')\n",
    "print(f\"10-Fold Cross Validation R² Scores: {scores}\")\n",
    "print(f\"Mean R² Score: {scores.mean()}\")\n",
    "\n"
   ]
  },
  {
   "cell_type": "code",
   "execution_count": 64,
   "metadata": {},
   "outputs": [
    {
     "name": "stderr",
     "output_type": "stream",
     "text": [
      "/Users/yueyangwu/opt/anaconda3/envs/Desktop/lib/python3.11/site-packages/tqdm/auto.py:21: TqdmWarning: IProgress not found. Please update jupyter and ipywidgets. See https://ipywidgets.readthedocs.io/en/stable/user_install.html\n",
      "  from .autonotebook import tqdm as notebook_tqdm\n"
     ]
    },
    {
     "data": {
      "image/png": "[encoded data removed]",
      "text/plain": [
       "<Figure size 800x470 with 2 Axes>"
      ]
     },
     "metadata": {},
     "output_type": "display_data"
    }
   ],
   "source": [
    "import shap\n",
    "\n",
    "\n",
    "explainer = shap.Explainer(xgb_model, X_train)\n",
    "shap_values = explainer(X_val)\n",
    "shap.summary_plot(shap_values, X_val)"
   ]
  },
  {
   "cell_type": "code",
   "execution_count": 62,
   "metadata": {},
   "outputs": [
    {
     "name": "stdout",
     "output_type": "stream",
     "text": [
      "Optimized Weights: [0.49746726 0.5       ]\n"
     ]
    }
   ],
   "source": [
    "from scipy.optimize import minimize\n",
    "\n",
    "def objective(weights):\n",
    "    y_val_pred_ensemble = weights[0] * y_val_pred_rf + weights[1] * y_val_pred_xgb\n",
    "    return mean_squared_error(y_val, y_val_pred_ensemble)\n",
    "\n",
    "initial_weights = [0.5, 0.5]\n",
    "bounds = [(0, 1), (0, 1)]\n",
    "result = minimize(objective, initial_weights, bounds=bounds, method='SLSQP')\n",
    "print(f\"Optimized Weights: {result.x}\")"
   ]
  },
  {
   "cell_type": "code",
   "execution_count": 65,
   "metadata": {},
   "outputs": [
    {
     "name": "stdout",
     "output_type": "stream",
     "text": [
      "\n",
      "XGBoost with Regularization Validation Set Metrics:\n",
      "Mean Squared Error (MSE): 1268.9486369473925\n",
      "R² Score: 0.7249284575836197\n"
     ]
    },
    {
     "name": "stderr",
     "output_type": "stream",
     "text": [
      "/Users/yueyangwu/opt/anaconda3/envs/Desktop/lib/python3.11/site-packages/xgboost/core.py:158: UserWarning: [16:57:47] WARNING: /Users/runner/work/xgboost/xgboost/src/learner.cc:740: \n",
      "Parameters: { \"lambda_\" } are not used.\n",
      "\n",
      "  warnings.warn(smsg, UserWarning)\n"
     ]
    }
   ],
   "source": [
    "from xgboost import XGBRegressor\n",
    "\n",
    "# Initialize XGBoost model with regularization\n",
    "xgb_model = XGBRegressor(\n",
    "    n_estimators=100,\n",
    "    learning_rate=0.1,\n",
    "    max_depth=3,\n",
    "    alpha=0.1,   # L1 regularization\n",
    "    lambda_=0.5, # L2 regularization\n",
    "    random_state=42\n",
    ")\n",
    "\n",
    "# Train the model with the training set\n",
    "xgb_model.fit(X_train, y_train.values.ravel())\n",
    "\n",
    "# Predict on validation set\n",
    "y_val_pred = xgb_model.predict(X_val)\n",
    "\n",
    "# Calculate MSE and R² score\n",
    "val_mse = mean_squared_error(y_val, y_val_pred)\n",
    "val_r2 = r2_score(y_val, y_val_pred)\n",
    "\n",
    "print(\"\\nXGBoost with Regularization Validation Set Metrics:\")\n",
    "print(f\"Mean Squared Error (MSE): {val_mse}\")\n",
    "print(f\"R² Score: {val_r2}\")"
   ]
  }
 ],
 "metadata": {
  "kernelspec": {
   "display_name": "Python 3",
   "language": "python",
   "name": "python3"
  },
  "language_info": {
   "codemirror_mode": {
    "name": "ipython",
    "version": 3
   },
   "file_extension": ".py",
   "mimetype": "text/x-python",
   "name": "python",
   "nbconvert_exporter": "python",
   "pygments_lexer": "ipython3",
   "version": "3.11.9"
  }
 },
 "nbformat": 4,
 "nbformat_minor": 2
}
