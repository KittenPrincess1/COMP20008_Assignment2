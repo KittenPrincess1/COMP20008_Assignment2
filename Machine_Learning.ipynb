{
 "cells": [
  {
   "cell_type": "code",
   "execution_count": 12,
   "metadata": {},
   "outputs": [
    {
     "name": "stdout",
     "output_type": "stream",
     "text": [
      "IRSD (avg)                                       1.000000\n",
      "Holds degree or higher, persons                  0.238375\n",
      "Population Density                               0.152812\n",
      "Primary school students                          0.087883\n",
      "Secondary school students                        0.081323\n",
      "2012 ERP age 10-14, persons                      0.061114\n",
      "2012 ERP age 5-9, persons                        0.060783\n",
      "2012 ERP age 15-19, persons                      0.052217\n",
      "2012 ERP age 20-24, persons                      0.039387\n",
      "2012 ERP age 0-4, persons                        0.024116\n",
      "Born overseas, persons                          -0.008330\n",
      "Travel time to nearest public hospital          -0.019800\n",
      "TAFE students                                   -0.034737\n",
      "Personal income <$400/week, persons             -0.047705\n",
      "Primary Schools                                 -0.051154\n",
      "Born in non-English speaking country, persons   -0.053554\n",
      "Dwellings with no motor vehicle                 -0.058161\n",
      "Did not complete year 12, persons               -0.065004\n",
      "Secondary Schools                               -0.068939\n",
      "Speaks LOTE at home, persons                    -0.069882\n",
      "Unemployed, persons                             -0.070536\n",
      "Public hospital separations, 2012-13            -0.113399\n",
      "Equivalent household income <$600/week          -0.146328\n",
      "Poor English proficiency, persons               -0.170357\n",
      "Dwellings with no internet                      -0.174264\n",
      "Aboriginal or Torres Strait Islander, persons   -0.193409\n",
      "Public Housing Dwellings                        -0.284146\n",
      "Distance to GPO (km)                            -0.334605\n",
      "% dwellings which are public housing            -0.513822\n",
      "Name: IRSD (avg), dtype: float64\n"
     ]
    }
   ],
   "source": [
    "import pandas as pd\n",
    "\n",
    "df = pd.read_csv('communities.csv')\n",
    "\n",
    "columns_of_interest = [\n",
    "    'IRSD (avg)', \n",
    "    'Equivalent household income <$600/week', \n",
    "    'Personal income <$400/week, persons', \n",
    "    'Unemployed, persons', \n",
    "    'Public Housing Dwellings',\n",
    "    '% dwellings which are public housing',\n",
    "    'Primary school students', \n",
    "    'Secondary school students', \n",
    "    'TAFE students', \n",
    "    'Holds degree or higher, persons', \n",
    "    'Did not complete year 12, persons',\n",
    "    'Population Density',\n",
    "    'Distance to GPO (km)',  \n",
    "    'Dwellings with no motor vehicle',\n",
    "    'Dwellings with no internet',\n",
    "    'Born overseas, persons', \n",
    "    'Born in non-English speaking country, persons', \n",
    "    'Speaks LOTE at home, persons',\n",
    "    'Aboriginal or Torres Strait Islander, persons',\n",
    "    'Poor English proficiency, persons',\n",
    "    '2012 ERP age 0-4, persons', \n",
    "    '2012 ERP age 5-9, persons', \n",
    "    '2012 ERP age 10-14, persons', \n",
    "    '2012 ERP age 15-19, persons', \n",
    "    '2012 ERP age 20-24, persons', \n",
    "    'Public hospital separations, 2012-13',\n",
    "    'Travel time to nearest public hospital',\n",
    "    'Primary Schools', \n",
    "    'Secondary Schools'\n",
    "]\n",
    "\n",
    "for col in columns_of_interest:\n",
    "    if col not in df.columns:\n",
    "        print(f\"Column '{col}' does not exist in the data\")\n",
    "\n",
    "df_filtered = df[[col for col in columns_of_interest if col in df.columns]].copy()\n",
    "\n",
    "df_filtered.replace('<5', 5, inplace=True)\n",
    "\n",
    "correlation_matrix = df_filtered.corr()\n",
    "\n",
    "irsd_correlations = correlation_matrix['IRSD (avg)'].sort_values(ascending=False)\n",
    "print(irsd_correlations)"
   ]
  }
 ],
 "metadata": {
  "kernelspec": {
   "display_name": "Python 3",
   "language": "python",
   "name": "python3"
  },
  "language_info": {
   "codemirror_mode": {
    "name": "ipython",
    "version": 3
   },
   "file_extension": ".py",
   "mimetype": "text/x-python",
   "name": "python",
   "nbconvert_exporter": "python",
   "pygments_lexer": "ipython3",
   "version": "3.11.9"
  }
 },
 "nbformat": 4,
 "nbformat_minor": 2
}
